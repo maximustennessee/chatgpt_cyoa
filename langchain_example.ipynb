{
 "cells": [
  {
   "cell_type": "markdown",
   "metadata": {},
   "source": [
    "## This sample choose you own adventure (CYOA) application demonstrates the following\n",
    "1) How to use the LangChain python library to interact programatically with OpenAI Chatbot\n",
    "2) How to implement Retrieval Augmented Generation (RAG) using in-memory vectorstore called FAISS\n",
    "3) How to use private context taken from the web - loading gear from dndbeyond.com"
   ]
  },
  {
   "cell_type": "code",
   "execution_count": 24,
   "metadata": {},
   "outputs": [],
   "source": [
    "from dotenv import load_dotenv\n",
    "from langchain_openai import ChatOpenAI\n",
    "from langchain_core.prompts import ChatPromptTemplate\n",
    "from langchain_core.output_parsers import StrOutputParser\n",
    "import chat_messages"
   ]
  },
  {
   "cell_type": "code",
   "execution_count": 25,
   "metadata": {},
   "outputs": [],
   "source": [
    "load_dotenv()\n",
    "llm = ChatOpenAI()"
   ]
  },
  {
   "cell_type": "code",
   "execution_count": 26,
   "metadata": {},
   "outputs": [
    {
     "data": {
      "text/plain": [
       "'Hello, brave traveler! Welcome to the enchanted realm. Before we embark on this thrilling journey, I must ask you to select a legendary weapon from the armory. Which of these options calls to your heart?\\n\\n1) The Blade of Aurora - a gleaming sword said to possess the power of the sun.\\n2) The Whispering Bow - a bow that can shoot arrows that never miss their target.\\n3) The Staff of Zephyr - a staff that controls the winds and storms.\\n\\nChoose wisely, for your weapon shall aid you in the challenges ahead.'"
      ]
     },
     "execution_count": 26,
     "metadata": {},
     "output_type": "execute_result"
    }
   ],
   "source": [
    "# initialize the CYOA prompt with system message to set the context\n",
    "prompt = ChatPromptTemplate.from_messages([\n",
    "    (\"system\", chat_messages.system_message.format(chat_history=chat_history)),\n",
    "    (\"user\", \"{choice}\")\n",
    "])\n",
    "\n",
    "output_parser = StrOutputParser()\n",
    "\n",
    "chain = prompt | llm | output_parser\n",
    "\n",
    "chain.invoke({\"choice\":\"\"})"
   ]
  },
  {
   "cell_type": "markdown",
   "metadata": {},
   "source": [
    "## Implement the retrieval chain\n",
    "1) Scrape armory from dndbeyond.com using WebBaseLoader and beautifulsoup4\n",
    "2) Load armory into faiss vector store "
   ]
  },
  {
   "cell_type": "code",
   "execution_count": 33,
   "metadata": {},
   "outputs": [
    {
     "name": "stdout",
     "output_type": "stream",
     "text": [
      "[Document(page_content='\\n\\n\\n\\n\\n\\n\\n\\n\\n\\n\\nEquipment, Gear, and Items for Dungeons & Dragons (D&D) Fifth Edition (5e) - D&D Beyond \\n\\n\\n\\n\\n\\n\\n\\n\\n\\n\\n\\n\\n\\n\\n\\n\\n\\n\\n\\n\\n\\n\\n\\n\\n\\n\\n\\n\\n\\n\\n\\n\\n\\n\\n\\n\\n\\n\\n\\n\\n\\n\\n\\n\\n\\n\\n\\n\\n\\n This site works best with JavaScript enabled. Please enable JavaScript to get the best experience from this site.\\n\\n\\nSkip to Content\\n\\n\\n\\n\\n\\n\\nD&D Beyond\\n\\n\\n\\n\\n\\n\\n\\n\\n\\n\\n\\n\\n\\n\\n\\n\\n\\n\\n\\n\\n\\n\\n\\n\\nSign In\\nRegister\\n\\n\\n\\n\\n\\n\\n\\n\\n\\n\\n\\nD&D Beyond\\n\\n\\n\\n\\n\\n\\n\\n\\n\\r\\n                   Collections\\r\\n    \\r\\n                \\n\\n\\n\\n\\n\\r\\n                   My Characters\\r\\n    \\r\\n                \\n\\n\\n\\n\\n\\r\\n                   My Campaigns\\r\\n    \\r\\n                \\n\\n\\n\\n\\n\\r\\n                   My Encounters\\r\\n    \\r\\n                \\n\\n\\n\\n\\n\\r\\n                   My Dice\\r\\n    \\r\\n                \\n\\n\\n\\n\\n\\r\\n                   My Homebrew Collection\\r\\n    \\r\\n                \\n\\n\\n\\n\\n\\r\\n                   My Homebrew Creations\\r\\n    \\r\\n                \\n\\n\\n\\n\\n\\r\\n                   Browse & Create Homebrew\\r\\n    \\r\\n                \\n\\n\\n\\n\\n\\n\\n\\r\\n                   Game Rules\\r\\n    \\r\\n                \\n\\n\\n\\n\\n\\r\\n                   Races\\r\\n    \\r\\n                \\n\\n\\n\\n\\n\\r\\n                   Classes\\r\\n    \\r\\n                \\n\\n\\n\\n\\n\\r\\n                   All Classes\\r\\n    \\r\\n                \\n\\n\\n\\n\\n\\r\\n                   Artificer\\r\\n    \\r\\n                \\n\\n\\n\\n\\n\\r\\n                   Barbarian\\r\\n    \\r\\n                \\n\\n\\n\\n\\n\\r\\n                   Bard\\r\\n    \\r\\n                \\n\\n\\n\\n\\n\\r\\n                   Cleric\\r\\n    \\r\\n                \\n\\n\\n\\n\\n\\r\\n                   Druid\\r\\n    \\r\\n                \\n\\n\\n\\n\\n\\r\\n                   Fighter\\r\\n    \\r\\n                \\n\\n\\n\\n\\n\\r\\n                   Monk\\r\\n    \\r\\n                \\n\\n\\n\\n\\n\\r\\n                   Paladin\\r\\n    \\r\\n                \\n\\n\\n\\n\\n\\r\\n                   Ranger\\r\\n    \\r\\n                \\n\\n\\n\\n\\n\\r\\n                   Rogue\\r\\n    \\r\\n                \\n\\n\\n\\n\\n\\r\\n                   Sorcerer\\r\\n    \\r\\n                \\n\\n\\n\\n\\n\\r\\n                   Warlock\\r\\n    \\r\\n                \\n\\n\\n\\n\\n\\r\\n                   Wizard\\r\\n    \\r\\n                \\n\\n\\n\\n\\r\\n                Additional\\r\\n    \\r\\n            \\n\\n\\n\\n\\r\\n                   Blood Hunter\\r\\n    \\r\\n                \\n\\n\\n\\n\\n\\n\\n\\r\\n                   Backgrounds\\r\\n    \\r\\n                \\n\\n\\n\\n\\n\\r\\n                   Feats\\r\\n    \\r\\n                \\n\\n\\n\\n\\n\\r\\n                   Spells\\r\\n    \\r\\n                \\n\\n\\n\\n\\n\\r\\n                   All Spells\\r\\n    \\r\\n                \\n\\n\\n\\n\\n\\r\\n                   Artificer Spells\\r\\n    \\r\\n                \\n\\n\\n\\n\\n\\r\\n                   Bard Spells\\r\\n    \\r\\n                \\n\\n\\n\\n\\n\\r\\n                   Cleric Spells\\r\\n    \\r\\n                \\n\\n\\n\\n\\n\\r\\n                   Druid Spells\\r\\n    \\r\\n                \\n\\n\\n\\n\\n\\r\\n                   Paladin Spells\\r\\n    \\r\\n                \\n\\n\\n\\n\\n\\r\\n                   Ranger Spells\\r\\n    \\r\\n                \\n\\n\\n\\n\\n\\r\\n                   Sorcerer Spells\\r\\n    \\r\\n                \\n\\n\\n\\n\\n\\r\\n                   Warlock Spells\\r\\n    \\r\\n                \\n\\n\\n\\n\\n\\r\\n                   Wizard Spells\\r\\n    \\r\\n                \\n\\n\\n\\n\\n\\n\\n\\r\\n                   Magic Items\\r\\n    \\r\\n                \\n\\n\\n\\n\\n\\r\\n                   Monsters\\r\\n    \\r\\n                \\n\\n\\n\\n\\n\\r\\n                   Equipment\\r\\n    \\r\\n                \\n\\n\\n\\n\\n\\r\\n                   Vehicles\\r\\n    \\r\\n                \\n\\n\\n\\n\\n\\n\\n\\r\\n                   Sources\\r\\n    \\r\\n                \\n\\n\\n\\n\\n\\r\\n                   View All\\r\\n    \\r\\n                \\n\\n\\n\\n\\n\\r\\n                   Sourcebooks\\r\\n    \\r\\n                \\n\\n\\n\\n\\n\\r\\n                   Unearthed Arcana\\r\\n    \\r\\n                \\n\\n\\n\\n\\n\\r\\n                   Player’s Handbook\\r\\n    \\r\\n                \\n\\n\\n\\n\\n\\r\\n                   Dungeon Master’s Guide\\r\\n    \\r\\n                \\n\\n\\n\\n\\n\\r\\n                   Monster Manual\\r\\n    \\r\\n                \\n\\n\\n\\n\\n\\r\\n                   Basic Rules\\r\\n    \\r\\n                \\n\\n\\n\\n\\n\\r\\n                   Adventure Atlas: The Mortuary\\r\\n    \\r\\n                \\n\\n\\n\\n\\n\\r\\n                   Bigby Presents: Glory of the Giants\\r\\n    \\r\\n                \\n\\n\\n\\n\\n\\r\\n                   Eberron: Rising from the Last War\\r\\n    \\r\\n                \\n\\n\\n\\n\\n\\r\\n                   Explorer’s Guide to Wildemount\\r\\n    \\r\\n                \\n\\n\\n\\n\\n\\r\\n                   Fizban’s Treasury of Dragons\\r\\n    \\r\\n                \\n\\n\\n\\n\\n\\r\\n                   Mordenkainen Presents: Monsters of the Multiverse\\r\\n    \\r\\n                \\n\\n\\n\\n\\n\\r\\n                   Planescape: Adventures in the Multiverse\\r\\n    \\r\\n                \\n\\n\\n\\n\\n\\r\\n                   Spelljammer: Adventures in Space\\r\\n    \\r\\n                \\n\\n\\n\\n\\n\\r\\n                   Tasha’s Cauldron of Everything\\r\\n    \\r\\n                \\n\\n\\n\\n\\n\\r\\n                   The Book of Many Things\\r\\n    \\r\\n                \\n\\n\\n\\n\\n\\r\\n                   Xanathar’s Guide to Everything\\r\\n    \\r\\n                \\n\\n\\n\\n\\n\\n\\n\\r\\n                   Adventures\\r\\n    \\r\\n                \\n\\n\\n\\n\\n\\r\\n                   Baldur’s Gate: Descent into Avernus\\r\\n    \\r\\n                \\n\\n\\n\\n\\n\\r\\n                   Candlekeep Mysteries\\r\\n    \\r\\n                \\n\\n\\n\\n\\n\\r\\n                   Critical Role: Call of the Netherdeep\\r\\n    \\r\\n                \\n\\n\\n\\n\\n\\r\\n                   Curse of Strahd\\r\\n    \\r\\n                \\n\\n\\n\\n\\n\\r\\n                   Dragon of Icespire Peak\\r\\n    \\r\\n                \\n\\n\\n\\n\\n\\r\\n                   Dragonlance: Shadow of the Dragon Queen\\r\\n    \\r\\n                \\n\\n\\n\\n\\n\\r\\n                   Dragons of Stormwreck Isle\\r\\n    \\r\\n                \\n\\n\\n\\n\\n\\r\\n                   Dungeons of Drakkenheim\\r\\n    \\r\\n                \\n\\n\\n\\n\\n\\r\\n                   Ghosts of Saltmarsh\\r\\n    \\r\\n                \\n\\n\\n\\n\\n\\r\\n                   Icewind Dale: Rime of the Frostmaiden\\r\\n    \\r\\n                \\n\\n\\n\\n\\n\\r\\n                   Journeys through the Radiant Citadel\\r\\n    \\r\\n                \\n\\n\\n\\n\\n\\r\\n                   Keys from the Golden Vault\\r\\n    \\r\\n                \\n\\n\\n\\n\\n\\r\\n                   Lairs of Etharis\\r\\n    \\r\\n                \\n\\n\\n\\n\\n\\r\\n                   Out of the Abyss\\r\\n    \\r\\n                \\n\\n\\n\\n\\n\\r\\n                   Phandelver and Below: The Shattered Obelisk\\r\\n    \\r\\n                \\n\\n\\n\\n\\n\\r\\n                   Princes of the Apocalypse\\r\\n    \\r\\n                \\n\\n\\n\\n\\n\\r\\n                   Storm King’s Thunder\\r\\n    \\r\\n                \\n\\n\\n\\n\\n\\r\\n                   Tales from the Yawning Portal\\r\\n    \\r\\n                \\n\\n\\n\\n\\n\\r\\n                   The Wild Beyond the Witchlight\\r\\n    \\r\\n                \\n\\n\\n\\n\\n\\r\\n                   Tomb of Annihilation\\r\\n    \\r\\n                \\n\\n\\n\\n\\n\\r\\n                   Tyranny of Dragons\\r\\n    \\r\\n                \\n\\n\\n\\n\\n\\r\\n                   Waterdeep: Dragon Heist\\r\\n    \\r\\n                \\n\\n\\n\\n\\n\\r\\n                   Waterdeep: Dungeon of the Mad Mage\\r\\n    \\r\\n                \\n\\n\\n\\n\\n\\n\\n\\n\\n\\r\\n                   Tools\\r\\n    \\r\\n                \\n\\n\\n\\n\\n\\r\\n                   Character Builder\\r\\n    \\r\\n                \\n\\n\\n\\n\\n\\r\\n                   Encounters\\r\\n    \\r\\n                \\n\\n\\n\\n\\n\\r\\n                   Mobile App\\r\\n    \\r\\n                \\n\\n\\n\\n\\n\\r\\n                   Avrae Discord Bot\\r\\n    \\r\\n                \\n\\n\\n\\n\\n\\n\\n\\r\\n                   Marketplace\\r\\n    \\r\\n                \\n\\n\\n\\n\\n\\r\\n                   Store\\r\\n    \\r\\n                \\n\\n\\n\\n\\n\\r\\n                   Subscriptions\\r\\n    \\r\\n                \\n\\n\\n\\n\\n\\r\\n                   Redeem A Key\\r\\n    \\r\\n                \\n\\n\\n\\n\\n\\r\\n                   Order History\\r\\n    \\r\\n                \\n\\n\\n\\n\\n\\n\\n\\r\\n                   Media\\r\\n    \\r\\n                \\n\\n\\n\\n\\n\\r\\n                   Community Update\\r\\n    \\r\\n                \\n\\n\\n\\n\\n\\r\\n                   Twitch\\r\\n    \\r\\n                \\n\\n\\n\\n\\n\\r\\n                   YouTube\\r\\n    \\r\\n                \\n\\n\\n\\n\\n\\r\\n                   Dragon Talk\\r\\n    \\r\\n                \\n\\n\\n\\n\\n\\r\\n                   Changelog\\r\\n    \\r\\n                \\n\\n\\n\\n\\n\\n\\n\\r\\n                   Forums\\r\\n    \\r\\n                \\n\\n\\n\\n\\n\\r\\n                   New Player Guide\\r\\n    \\r\\n                \\n\\n\\n\\n\\n\\r\\n                   Subscribe\\r\\n    \\r\\n                \\n\\n\\n\\nDesktop View\\n\\nSign Out\\n\\n\\n\\n\\n\\n\\n\\n\\n\\n\\n\\n\\n\\n\\n\\n\\n\\n\\n\\n\\n\\n\\n\\n\\n\\n\\n\\n\\n\\n\\n\\nHome\\n\\n\\n\\n\\nItems\\n\\n\\n\\n\\nEquipment\\n\\n\\n\\n\\n\\n\\n\\n\\n\\n\\n\\nEquipment Rules\\n        \\n\\n\\nView Magic Items\\n        \\n\\n\\n\\n\\n\\n\\n\\n\\n\\n              Equipment\\n            \\n\\n\\n\\n\\n\\n\\n\\n\\n\\n\\n\\n\\n\\n\\n\\n\\n\\n\\n\\n\\n\\n\\n\\n\\n\\n\\n\\n\\r\\n                Search\\r\\n            \\n\\n\\n\\n\\n\\n\\n\\n\\r\\n                Cost\\r\\n            \\n\\n\\n\\n\\n\\n\\n\\n\\n\\n\\n\\n\\n\\n\\n\\r\\n                Weight\\r\\n            \\n\\n\\n\\n\\n\\n\\n\\n\\n\\n\\n\\n\\n\\nFilter Equipment\\n\\n\\n\\n\\n\\n\\nShow Advanced Filters\\n\\n\\n\\n\\nReset All Filters\\n\\n\\n\\n\\nName\\nCost\\nWeight\\nAttributes\\nNotes\\n\\n\\n\\n\\n\\n12Next\\n\\n\\n\\n\\n\\n\\n\\n\\n\\n\\n\\n\\n\\n\\n\\n\\n\\n\\n                            Antimatter Rifle\\n                        \\n\\n\\n\\n\\n                        Firearms Ranged Weapon\\n                    \\n\\n\\n\\n\\n\\n\\n\\n                         -- \\n                    \\n\\n\\n\\n\\n\\n\\n\\n                        10 lbs\\n                    \\n\\n\\n\\n\\n\\n\\n\\n                        Necrotic\\n                    \\n\\n\\n\\n\\n\\n\\n\\n                        Reload (2 shots)\\n                    \\n\\n\\n\\n\\n\\n\\n\\n\\n\\n\\n\\n\\n\\n\\n\\n\\n\\n\\n\\n\\n\\n\\n                            Bad News (Exandria)\\n                        \\n\\n\\n\\n\\n                        Firearms Ranged Weapon\\n                    \\n\\n\\n\\n\\n\\n\\n\\n                         -- \\n                    \\n\\n\\n\\n\\n\\n\\n\\n                        25 lbs\\n                    \\n\\n\\n\\n\\n\\n\\n\\n                        Piercing\\n                    \\n\\n\\n\\n\\n\\n\\n\\n\\n\\n\\n\\n\\n\\n\\n\\n\\n\\n\\n\\n\\n\\n\\n\\n\\n\\n\\n\\n\\n\\n\\n                            Battleaxe\\n                        \\n\\n\\n\\n\\n                        Martial Melee Weapon\\n                    \\n\\n\\n\\n\\n\\n\\n\\n                        10 gp\\n                    \\n\\n\\n\\n\\n\\n\\n\\n                        4 lbs\\n                    \\n\\n\\n\\n\\n\\n\\n\\n                        Slashing\\n                    \\n\\n\\n\\n\\n\\n\\n\\n                        Combat, Damage\\n                    \\n\\n\\n\\n\\n\\n\\n\\n\\n\\n\\n\\n\\n\\n\\n\\n\\n\\n\\n\\n\\n\\n\\n                            Blowgun\\n                        \\n\\n\\n\\n\\n                        Martial Ranged Weapon\\n                    \\n\\n\\n\\n\\n\\n\\n\\n                        10 gp\\n                    \\n\\n\\n\\n\\n\\n\\n\\n                        1 lb\\n                    \\n\\n\\n\\n\\n\\n\\n\\n                        Piercing\\n                    \\n\\n\\n\\n\\n\\n\\n\\n                        Combat, Damage\\n                    \\n\\n\\n\\n\\n\\n\\n\\n\\n\\n\\n\\n\\n\\n\\n\\n\\n\\n\\n\\n\\n\\n\\n                            Blunderbuss (Exandria)\\n                        \\n\\n\\n\\n\\n                        Firearms Ranged Weapon\\n                    \\n\\n\\n\\n\\n\\n\\n\\n                        300 gp\\n                    \\n\\n\\n\\n\\n\\n\\n\\n                        10 lbs\\n                    \\n\\n\\n\\n\\n\\n\\n\\n                        Piercing\\n                    \\n\\n\\n\\n\\n\\n\\n\\n\\n\\n\\n\\n\\n\\n\\n\\n\\n\\n\\n\\n\\n\\n\\n\\n\\n\\n\\n\\n\\n\\n\\n                            Boomerang\\n                        \\n\\n\\n\\n\\n                        Simple Ranged Weapon\\n                    \\n\\n\\n\\n\\n\\n\\n\\n                         -- \\n                    \\n\\n\\n\\n\\n\\n\\n\\n                         -- \\n                    \\n\\n\\n\\n\\n\\n\\n\\n                        Bludgeoning\\n                    \\n\\n\\n\\n\\n\\n\\n\\n                        Combat, Damage\\n                    \\n\\n\\n\\n\\n\\n\\n\\n\\n\\n\\n\\n\\n\\n\\n\\n\\n\\n\\n\\n\\n\\n\\n                            Club\\n                        \\n\\n\\n\\n\\n                        Simple Melee Weapon\\n                    \\n\\n\\n\\n\\n\\n\\n\\n                        1 sp\\n                    \\n\\n\\n\\n\\n\\n\\n\\n                        2 lbs\\n                    \\n\\n\\n\\n\\n\\n\\n\\n                        Bludgeoning\\n                    \\n\\n\\n\\n\\n\\n\\n\\n                        Combat, Damage\\n                    \\n\\n\\n\\n\\n\\n\\n\\n\\n\\n\\n\\n\\n\\n\\n\\n\\n\\n\\n\\n\\n\\n\\n                            Crossbow, hand\\n                        \\n\\n\\n\\n\\n                        Martial Ranged Weapon\\n                    \\n\\n\\n\\n\\n\\n\\n\\n                        75 gp\\n                    \\n\\n\\n\\n\\n\\n\\n\\n                        3 lbs\\n                    \\n\\n\\n\\n\\n\\n\\n\\n                        Piercing\\n                    \\n\\n\\n\\n\\n\\n\\n\\n                        Combat, Damage\\n                    \\n\\n\\n\\n\\n\\n\\n\\n\\n\\n\\n\\n\\n\\n\\n\\n\\n\\n\\n\\n\\n\\n\\n                            Crossbow, heavy\\n                        \\n\\n\\n\\n\\n                        Martial Ranged Weapon\\n                    \\n\\n\\n\\n\\n\\n\\n\\n                        50 gp\\n                    \\n\\n\\n\\n\\n\\n\\n\\n                        18 lbs\\n                    \\n\\n\\n\\n\\n\\n\\n\\n                        Piercing\\n                    \\n\\n\\n\\n\\n\\n\\n\\n                        Combat, Damage\\n                    \\n\\n\\n\\n\\n\\n\\n\\n\\n\\n\\n\\n\\n\\n\\n\\n\\n\\n\\n\\n\\n\\n\\n                            Crossbow, light\\n                        \\n\\n\\n\\n\\n                        Simple Ranged Weapon\\n                    \\n\\n\\n\\n\\n\\n\\n\\n                        25 gp\\n                    \\n\\n\\n\\n\\n\\n\\n\\n                        5 lbs\\n                    \\n\\n\\n\\n\\n\\n\\n\\n                        Piercing\\n                    \\n\\n\\n\\n\\n\\n\\n\\n                        Combat, Damage\\n                    \\n\\n\\n\\n\\n\\n\\n\\n\\n\\n\\n\\n\\n\\n\\n\\n\\n\\n\\n\\n\\n\\n\\n                            Dagger\\n                        \\n\\n\\n\\n\\n                        Simple Melee Weapon\\n                    \\n\\n\\n\\n\\n\\n\\n\\n                        2 gp\\n                    \\n\\n\\n\\n\\n\\n\\n\\n                        1 lb\\n                    \\n\\n\\n\\n\\n\\n\\n\\n                        Piercing\\n                    \\n\\n\\n\\n\\n\\n\\n\\n                        Combat, Damage\\n                    \\n\\n\\n\\n\\n\\n\\n\\n\\n\\n\\n\\n\\n\\n\\n\\n\\n\\n\\n\\n\\n\\n\\n                            Dart\\n                        \\n\\n\\n\\n\\n                        Simple Ranged Weapon\\n                    \\n\\n\\n\\n\\n\\n\\n\\n                        5 cp\\n                    \\n\\n\\n\\n\\n\\n\\n\\n                        1/4 lb\\n                    \\n\\n\\n\\n\\n\\n\\n\\n                        Piercing\\n                    \\n\\n\\n\\n\\n\\n\\n\\n                        Combat, Damage\\n                    \\n\\n\\n\\n\\n\\n\\n\\n\\n\\n\\n\\n\\n\\n\\n\\n\\n\\n\\n\\n\\n\\n\\n                            Double-Bladed Scimitar\\n                        \\n\\n\\n\\n\\n                        Martial Melee Weapon\\n                    \\n\\n\\n\\n\\n\\n\\n\\n                        100 gp\\n                    \\n\\n\\n\\n\\n\\n\\n\\n                        6 lbs\\n                    \\n\\n\\n\\n\\n\\n\\n\\n                        Slashing\\n                    \\n\\n\\n\\n\\n\\n\\n\\n                        Combat, Damage\\n                    \\n\\n\\n\\n\\n\\n\\n\\n\\n\\n\\n\\n\\n\\n\\n\\n\\n\\n\\n\\n\\n\\n\\n                            Flail\\n                        \\n\\n\\n\\n\\n                        Martial Melee Weapon\\n                    \\n\\n\\n\\n\\n\\n\\n\\n                        10 gp\\n                    \\n\\n\\n\\n\\n\\n\\n\\n                        2 lbs\\n                    \\n\\n\\n\\n\\n\\n\\n\\n                        Bludgeoning\\n                    \\n\\n\\n\\n\\n\\n\\n\\n                        Combat, Damage\\n                    \\n\\n\\n\\n\\n\\n\\n\\n\\n\\n\\n\\n\\n\\n\\n\\n\\n\\n\\n\\n\\n\\n\\n                            Glaive\\n                        \\n\\n\\n\\n\\n                        Martial Melee Weapon\\n                    \\n\\n\\n\\n\\n\\n\\n\\n                        20 gp\\n                    \\n\\n\\n\\n\\n\\n\\n\\n                        6 lbs\\n                    \\n\\n\\n\\n\\n\\n\\n\\n                        Slashing\\n                    \\n\\n\\n\\n\\n\\n\\n\\n                        Combat, Control, Damage\\n                    \\n\\n\\n\\n\\n\\n\\n\\n\\n\\n\\n\\n\\n\\n\\n\\n\\n\\n\\n\\n\\n\\n\\n                            Greataxe\\n                        \\n\\n\\n\\n\\n                        Martial Melee Weapon\\n                    \\n\\n\\n\\n\\n\\n\\n\\n                        30 gp\\n                    \\n\\n\\n\\n\\n\\n\\n\\n                        7 lbs\\n                    \\n\\n\\n\\n\\n\\n\\n\\n                        Slashing\\n                    \\n\\n\\n\\n\\n\\n\\n\\n                        Combat, Damage\\n                    \\n\\n\\n\\n\\n\\n\\n\\n\\n\\n\\n\\n\\n\\n\\n\\n\\n\\n\\n\\n\\n\\n\\n                            Greatclub\\n                        \\n\\n\\n\\n\\n                        Simple Melee Weapon\\n                    \\n\\n\\n\\n\\n\\n\\n\\n                        2 sp\\n                    \\n\\n\\n\\n\\n\\n\\n\\n                        10 lbs\\n                    \\n\\n\\n\\n\\n\\n\\n\\n                        Bludgeoning\\n                    \\n\\n\\n\\n\\n\\n\\n\\n                        Combat, Damage\\n                    \\n\\n\\n\\n\\n\\n\\n\\n\\n\\n\\n\\n\\n\\n\\n\\n\\n\\n\\n\\n\\n\\n\\n                            Greatsword\\n                        \\n\\n\\n\\n\\n                        Martial Melee Weapon\\n                    \\n\\n\\n\\n\\n\\n\\n\\n                        50 gp\\n                    \\n\\n\\n\\n\\n\\n\\n\\n                        6 lbs\\n                    \\n\\n\\n\\n\\n\\n\\n\\n                        Slashing\\n                    \\n\\n\\n\\n\\n\\n\\n\\n                        Combat, Damage\\n                    \\n\\n\\n\\n\\n\\n\\n\\n\\n\\n\\n\\n\\n\\n\\n\\n\\n\\n\\n\\n\\n\\n\\n                            Halberd\\n                        \\n\\n\\n\\n\\n                        Martial Melee Weapon\\n                    \\n\\n\\n\\n\\n\\n\\n\\n                        20 gp\\n                    \\n\\n\\n\\n\\n\\n\\n\\n                        6 lbs\\n                    \\n\\n\\n\\n\\n\\n\\n\\n                        Slashing\\n                    \\n\\n\\n\\n\\n\\n\\n\\n                        Combat, Control, Damage\\n                    \\n\\n\\n\\n\\n\\n\\n\\n\\n\\n\\n\\n\\n\\n\\n\\n\\n\\n\\n\\n\\n\\n\\n                            Hand Mortar (Exandria)\\n                        \\n\\n\\n\\n\\n                        Firearms Ranged Weapon\\n                    \\n\\n\\n\\n\\n\\n\\n\\n                         -- \\n                    \\n\\n\\n\\n\\n\\n\\n\\n                        10 lbs\\n                    \\n\\n\\n\\n\\n\\n\\n\\n                        Fire\\n                    \\n\\n\\n\\n\\n\\n\\n\\n\\n\\n\\n\\n\\n\\n\\n\\n\\n\\n\\n\\n\\n\\n\\n\\n\\n\\n\\n\\n\\n\\n\\n                            Handaxe\\n                        \\n\\n\\n\\n\\n                        Simple Melee Weapon\\n                    \\n\\n\\n\\n\\n\\n\\n\\n                        5 gp\\n                    \\n\\n\\n\\n\\n\\n\\n\\n                        2 lbs\\n                    \\n\\n\\n\\n\\n\\n\\n\\n                        Slashing\\n                    \\n\\n\\n\\n\\n\\n\\n\\n                        Combat, Damage\\n                    \\n\\n\\n\\n\\n\\n\\n\\n\\n\\n\\n\\n\\n\\n\\n\\n\\n\\n\\n\\n\\n\\n\\n                            Hoopak\\n                        \\n\\n\\n\\n\\n                        Martial Melee Weapon\\n                    \\n\\n\\n\\n\\n\\n\\n\\n                        1 gp\\n                    \\n\\n\\n\\n\\n\\n\\n\\n                        2 lbs\\n                    \\n\\n\\n\\n\\n\\n\\n\\n                        Piercing\\n                    \\n\\n\\n\\n\\n\\n\\n\\n\\n\\n\\n\\n\\n\\n\\n\\n\\n\\n\\n\\n\\n\\n\\n\\n\\n\\n\\n\\n\\n\\n\\n                            Hoopak (Ranged)\\n                        \\n\\n\\n\\n\\n                        Martial Ranged Weapon\\n                    \\n\\n\\n\\n\\n\\n\\n\\n                        1 gp\\n                    \\n\\n\\n\\n\\n\\n\\n\\n                        2 lbs\\n                    \\n\\n\\n\\n\\n\\n\\n\\n                        Bludgeoning\\n                    \\n\\n\\n\\n\\n\\n\\n\\n\\n\\n\\n\\n\\n\\n\\n\\n\\n\\n\\n\\n\\n\\n\\n\\n\\n\\n\\n\\n\\n\\n\\n                            Javelin\\n                        \\n\\n\\n\\n\\n                        Simple Melee Weapon\\n                    \\n\\n\\n\\n\\n\\n\\n\\n                        5 sp\\n                    \\n\\n\\n\\n\\n\\n\\n\\n                        2 lbs\\n                    \\n\\n\\n\\n\\n\\n\\n\\n                        Piercing\\n                    \\n\\n\\n\\n\\n\\n\\n\\n                        Combat, Damage\\n                    \\n\\n\\n\\n\\n\\n\\n\\n\\n\\n\\n\\n\\n\\n\\n\\n\\n\\n\\n\\n\\n\\n\\n                            Lance\\n                        \\n\\n\\n\\n\\n                        Martial Melee Weapon\\n                    \\n\\n\\n\\n\\n\\n\\n\\n                        10 gp\\n                    \\n\\n\\n\\n\\n\\n\\n\\n                        6 lbs\\n                    \\n\\n\\n\\n\\n\\n\\n\\n                        Piercing\\n                    \\n\\n\\n\\n\\n\\n\\n\\n                        Combat, Control, Damage\\n                    \\n\\n\\n\\n\\n\\n\\n\\n\\n\\n\\n\\n\\n\\n\\n\\n\\n\\n\\n\\n\\n\\n\\n                            Laser Pistol\\n                        \\n\\n\\n\\n\\n                        Firearms Ranged Weapon\\n                    \\n\\n\\n\\n\\n\\n\\n\\n                         -- \\n                    \\n\\n\\n\\n\\n\\n\\n\\n                        2 lbs\\n                    \\n\\n\\n\\n\\n\\n\\n\\n                        Radiant\\n                    \\n\\n\\n\\n\\n\\n\\n\\n                        Reload (50 shots)\\n                    \\n\\n\\n\\n\\n\\n\\n\\n\\n\\n\\n\\n\\n\\n\\n\\n\\n\\n\\n\\n\\n\\n\\n                            Laser Rifle\\n                        \\n\\n\\n\\n\\n                        Firearms Ranged Weapon\\n                    \\n\\n\\n\\n\\n\\n\\n\\n                         -- \\n                    \\n\\n\\n\\n\\n\\n\\n\\n                        7 lbs\\n                    \\n\\n\\n\\n\\n\\n\\n\\n                        Radiant\\n                    \\n\\n\\n\\n\\n\\n\\n\\n                        Reload (30 shots)\\n                    \\n\\n\\n\\n\\n\\n\\n\\n\\n\\n\\n\\n\\n\\n\\n\\n\\n\\n\\n\\n\\n\\n\\n                            Light Hammer\\n                        \\n\\n\\n\\n\\n                        Simple Melee Weapon\\n                    \\n\\n\\n\\n\\n\\n\\n\\n                        2 gp\\n                    \\n\\n\\n\\n\\n\\n\\n\\n                        2 lbs\\n                    \\n\\n\\n\\n\\n\\n\\n\\n                        Bludgeoning\\n                    \\n\\n\\n\\n\\n\\n\\n\\n                        Combat, Damage\\n                    \\n\\n\\n\\n\\n\\n\\n\\n\\n\\n\\n\\n\\n\\n\\n\\n\\n\\n\\n\\n\\n\\n\\n                            Longbow\\n                        \\n\\n\\n\\n\\n                        Martial Ranged Weapon\\n                    \\n\\n\\n\\n\\n\\n\\n\\n                        50 gp\\n                    \\n\\n\\n\\n\\n\\n\\n\\n                        2 lbs\\n                    \\n\\n\\n\\n\\n\\n\\n\\n                        Piercing\\n                    \\n\\n\\n\\n\\n\\n\\n\\n                        Combat, Damage\\n                    \\n\\n\\n\\n\\n\\n\\n\\n\\n\\n\\n\\n\\n\\n\\n\\n\\n\\n\\n\\n\\n\\n\\n                            Longsword\\n                        \\n\\n\\n\\n\\n                        Martial Melee Weapon\\n                    \\n\\n\\n\\n\\n\\n\\n\\n                        15 gp\\n                    \\n\\n\\n\\n\\n\\n\\n\\n                        3 lbs\\n                    \\n\\n\\n\\n\\n\\n\\n\\n                        Slashing\\n                    \\n\\n\\n\\n\\n\\n\\n\\n                        Combat, Damage\\n                    \\n\\n\\n\\n\\n\\n\\n\\n\\n\\n\\n\\n\\n\\n12Next\\n\\n\\n\\n\\n\\n\\n\\n\\n\\n\\n\\n\\n\\n\\n\\n\\n\\n\\n\\n\\n\\nWe have updated our privacy policy. Click the link to learn more.\\n\\n\\n\\n\\n\\n\\nPlay With Advantage\\n\\n\\n\\n\\nQuick Links\\n\\nCompendium\\n\\n\\nBuilder\\n\\n\\nCharacters\\n\\n\\nChangelog\\n\\n\\nCareers\\n\\n\\n\\nSupport\\n\\nHelp Portal\\n\\n\\nSupport Forum\\n\\n\\nContact Us\\n\\n\\nDo Not Sell My Info\\n\\n\\nCookies\\n\\n\\n\\nFollow Us\\n\\nTwitter\\n\\n\\nFacebook\\n\\n\\nYouTube\\n\\n\\nTwitch\\n\\n\\nInstagram\\n\\n\\n\\n\\n\\n\\n\\n\\n\\n\\n                    ©2024 D&D Beyond | All Rights Reserved\\n                \\n\\n                    Dungeons & Dragons, D&D, their respective logos, and all Wizards titles and characters are property of Wizards of the Coast LLC in the U.S.A. and other countries. ©2024 Wizards.\\n                \\n\\n\\nPrivacy Policy\\nTerms of Service\\nSupport\\n\\n\\n\\n\\nMobile View\\n\\n\\n\\n\\n\\n\\n\\n', metadata={'source': 'https://www.dndbeyond.com/equipment?filter-search=Weapon', 'title': 'Equipment, Gear, and Items for Dungeons & Dragons (D&D) Fifth Edition (5e) - D&D Beyond ', 'description': '', 'language': 'en-us'})]\n"
     ]
    }
   ],
   "source": [
    "from langchain_community.document_loaders import WebBaseLoader\n",
    "\n",
    "loader = WebBaseLoader('https://www.dndbeyond.com/equipment?filter-search=Weapon')\n",
    "armory = loader.load()\n",
    "\n",
    "print(armory)\n",
    "\n",
    "from langchain_openai import OpenAIEmbeddings\n",
    "\n",
    "embeddings = OpenAIEmbeddings()\n",
    "\n",
    "from langchain_community.vectorstores import FAISS\n",
    "from langchain.text_splitter import RecursiveCharacterTextSplitter\n",
    "\n",
    "text_splitter = RecursiveCharacterTextSplitter()\n",
    "documents = text_splitter.split_documents(armory)\n",
    "\n",
    "vectorstore = FAISS.from_documents(documents, embeddings)"
   ]
  },
  {
   "cell_type": "markdown",
   "metadata": {},
   "source": [
    "## Load armory into embeddings"
   ]
  },
  {
   "cell_type": "code",
   "execution_count": 49,
   "metadata": {},
   "outputs": [
    {
     "data": {
      "text/plain": [
       "'The names of the first 3 weapons are Axe, Slingshot, and Halbred.'"
      ]
     },
     "execution_count": 49,
     "metadata": {},
     "output_type": "execute_result"
    }
   ],
   "source": [
    "from langchain.chains.combine_documents import create_stuff_documents_chain\n",
    "\n",
    "template = \"\"\"Answer the following question based only on the provided context:\n",
    "\n",
    "<context>\n",
    "{context}\n",
    "</context>\n",
    "\n",
    "Question: {input}\n",
    "\"\"\"\n",
    "\n",
    "prompt = ChatPromptTemplate.from_template(template)\n",
    "document_chain = create_stuff_documents_chain(llm, prompt)\n",
    "\n",
    "from langchain_core.documents import Document\n",
    "\n",
    "document_chain.invoke({\n",
    "    \"input\":\"List the names of the first 3 weapons\",\n",
    "    \"context\": [Document(page_content=\"List of weapons: 1) Axe 2) Slingshot, 3) Halbred 4) Sword 5) Javelin\")]\n",
    "})\n"
   ]
  },
  {
   "cell_type": "code",
   "execution_count": 50,
   "metadata": {},
   "outputs": [
    {
     "data": {
      "text/plain": [
       "{'input': 'Enumerate the names of all the available weapons.',\n",
       " 'context': [Document(page_content='View Magic Items\\n        \\n\\n\\n\\n\\n\\n\\n\\n\\n\\n              Equipment\\n            \\n\\n\\n\\n\\n\\n\\n\\n\\n\\n\\n\\n\\n\\n\\n\\n\\n\\n\\n\\n\\n\\n\\n\\n\\n\\n\\n\\n\\r\\n                Search\\r\\n            \\n\\n\\n\\n\\n\\n\\n\\n\\r\\n                Cost\\r\\n            \\n\\n\\n\\n\\n\\n\\n\\n\\n\\n\\n\\n\\n\\n\\n\\r\\n                Weight\\r\\n            \\n\\n\\n\\n\\n\\n\\n\\n\\n\\n\\n\\n\\n\\nFilter Equipment\\n\\n\\n\\n\\n\\n\\nShow Advanced Filters\\n\\n\\n\\n\\nReset All Filters\\n\\n\\n\\n\\nName\\nCost\\nWeight\\nAttributes\\nNotes\\n\\n\\n\\n\\n\\n12Next\\n\\n\\n\\n\\n\\n\\n\\n\\n\\n\\n\\n\\n\\n\\n\\n\\n\\n\\n                            Antimatter Rifle\\n                        \\n\\n\\n\\n\\n                        Firearms Ranged Weapon\\n                    \\n\\n\\n\\n\\n\\n\\n\\n                         -- \\n                    \\n\\n\\n\\n\\n\\n\\n\\n                        10 lbs\\n                    \\n\\n\\n\\n\\n\\n\\n\\n                        Necrotic\\n                    \\n\\n\\n\\n\\n\\n\\n\\n                        Reload (2 shots)\\n                    \\n\\n\\n\\n\\n\\n\\n\\n\\n\\n\\n\\n\\n\\n\\n\\n\\n\\n\\n\\n\\n\\n\\n                            Bad News (Exandria)\\n                        \\n\\n\\n\\n\\n                        Firearms Ranged Weapon\\n                    \\n\\n\\n\\n\\n\\n\\n\\n                         -- \\n                    \\n\\n\\n\\n\\n\\n\\n\\n                        25 lbs\\n                    \\n\\n\\n\\n\\n\\n\\n\\n                        Piercing\\n                    \\n\\n\\n\\n\\n\\n\\n\\n\\n\\n\\n\\n\\n\\n\\n\\n\\n\\n\\n\\n\\n\\n\\n\\n\\n\\n\\n\\n\\n\\n\\n                            Battleaxe\\n                        \\n\\n\\n\\n\\n                        Martial Melee Weapon\\n                    \\n\\n\\n\\n\\n\\n\\n\\n                        10 gp\\n                    \\n\\n\\n\\n\\n\\n\\n\\n                        4 lbs\\n                    \\n\\n\\n\\n\\n\\n\\n\\n                        Slashing\\n                    \\n\\n\\n\\n\\n\\n\\n\\n                        Combat, Damage\\n                    \\n\\n\\n\\n\\n\\n\\n\\n\\n\\n\\n\\n\\n\\n\\n\\n\\n\\n\\n\\n\\n\\n\\n                            Blowgun\\n                        \\n\\n\\n\\n\\n                        Martial Ranged Weapon\\n                    \\n\\n\\n\\n\\n\\n\\n\\n                        10 gp\\n                    \\n\\n\\n\\n\\n\\n\\n\\n                        1 lb\\n                    \\n\\n\\n\\n\\n\\n\\n\\n                        Piercing\\n                    \\n\\n\\n\\n\\n\\n\\n\\n                        Combat, Damage\\n                    \\n\\n\\n\\n\\n\\n\\n\\n\\n\\n\\n\\n\\n\\n\\n\\n\\n\\n\\n\\n\\n\\n\\n                            Blunderbuss (Exandria)\\n                        \\n\\n\\n\\n\\n                        Firearms Ranged Weapon\\n                    \\n\\n\\n\\n\\n\\n\\n\\n                        300 gp\\n                    \\n\\n\\n\\n\\n\\n\\n\\n                        10 lbs\\n                    \\n\\n\\n\\n\\n\\n\\n\\n                        Piercing\\n                    \\n\\n\\n\\n\\n\\n\\n\\n\\n\\n\\n\\n\\n\\n\\n\\n\\n\\n\\n\\n\\n\\n\\n\\n\\n\\n\\n\\n\\n\\n\\n                            Boomerang\\n                        \\n\\n\\n\\n\\n                        Simple Ranged Weapon\\n                    \\n\\n\\n\\n\\n\\n\\n\\n                         -- \\n                    \\n\\n\\n\\n\\n\\n\\n\\n                         -- \\n                    \\n\\n\\n\\n\\n\\n\\n\\n                        Bludgeoning\\n                    \\n\\n\\n\\n\\n\\n\\n\\n                        Combat, Damage\\n                    \\n\\n\\n\\n\\n\\n\\n\\n\\n\\n\\n\\n\\n\\n\\n\\n\\n\\n\\n\\n\\n\\n\\n                            Club\\n                        \\n\\n\\n\\n\\n                        Simple Melee Weapon\\n                    \\n\\n\\n\\n\\n\\n\\n\\n                        1 sp\\n                    \\n\\n\\n\\n\\n\\n\\n\\n                        2 lbs\\n                    \\n\\n\\n\\n\\n\\n\\n\\n                        Bludgeoning\\n                    \\n\\n\\n\\n\\n\\n\\n\\n                        Combat, Damage\\n                    \\n\\n\\n\\n\\n\\n\\n\\n\\n\\n\\n\\n\\n\\n\\n\\n\\n\\n\\n\\n\\n\\n\\n                            Crossbow, hand\\n                        \\n\\n\\n\\n\\n                        Martial Ranged Weapon\\n                    \\n\\n\\n\\n\\n\\n\\n\\n                        75 gp\\n                    \\n\\n\\n\\n\\n\\n\\n\\n                        3 lbs\\n                    \\n\\n\\n\\n\\n\\n\\n\\n                        Piercing\\n                    \\n\\n\\n\\n\\n\\n\\n\\n                        Combat, Damage\\n                    \\n\\n\\n\\n\\n\\n\\n\\n\\n\\n\\n\\n\\n\\n\\n\\n\\n\\n\\n\\n\\n\\n\\n                            Crossbow, heavy\\n                        \\n\\n\\n\\n\\n                        Martial Ranged Weapon\\n                    \\n\\n\\n\\n\\n\\n\\n\\n                        50 gp\\n                    \\n\\n\\n\\n\\n\\n\\n\\n                        18 lbs\\n                    \\n\\n\\n\\n\\n\\n\\n\\n                        Piercing\\n                    \\n\\n\\n\\n\\n\\n\\n\\n                        Combat, Damage\\n                    \\n\\n\\n\\n\\n\\n\\n\\n\\n\\n\\n\\n\\n\\n\\n\\n\\n\\n\\n\\n\\n\\n\\n                            Crossbow, light', metadata={'source': 'https://www.dndbeyond.com/equipment?filter-search=Weapon', 'title': 'Equipment, Gear, and Items for Dungeons & Dragons (D&D) Fifth Edition (5e) - D&D Beyond ', 'description': '', 'language': 'en-us'}),\n",
       "  Document(page_content='Longbow\\n                        \\n\\n\\n\\n\\n                        Martial Ranged Weapon\\n                    \\n\\n\\n\\n\\n\\n\\n\\n                        50 gp\\n                    \\n\\n\\n\\n\\n\\n\\n\\n                        2 lbs\\n                    \\n\\n\\n\\n\\n\\n\\n\\n                        Piercing\\n                    \\n\\n\\n\\n\\n\\n\\n\\n                        Combat, Damage\\n                    \\n\\n\\n\\n\\n\\n\\n\\n\\n\\n\\n\\n\\n\\n\\n\\n\\n\\n\\n\\n\\n\\n\\n                            Longsword\\n                        \\n\\n\\n\\n\\n                        Martial Melee Weapon\\n                    \\n\\n\\n\\n\\n\\n\\n\\n                        15 gp\\n                    \\n\\n\\n\\n\\n\\n\\n\\n                        3 lbs\\n                    \\n\\n\\n\\n\\n\\n\\n\\n                        Slashing\\n                    \\n\\n\\n\\n\\n\\n\\n\\n                        Combat, Damage\\n                    \\n\\n\\n\\n\\n\\n\\n\\n\\n\\n\\n\\n\\n\\n12Next\\n\\n\\n\\n\\n\\n\\n\\n\\n\\n\\n\\n\\n\\n\\n\\n\\n\\n\\n\\n\\n\\nWe have updated our privacy policy. Click the link to learn more.\\n\\n\\n\\n\\n\\n\\nPlay With Advantage\\n\\n\\n\\n\\nQuick Links\\n\\nCompendium\\n\\n\\nBuilder\\n\\n\\nCharacters\\n\\n\\nChangelog\\n\\n\\nCareers\\n\\n\\n\\nSupport\\n\\nHelp Portal\\n\\n\\nSupport Forum\\n\\n\\nContact Us\\n\\n\\nDo Not Sell My Info\\n\\n\\nCookies\\n\\n\\n\\nFollow Us\\n\\nTwitter\\n\\n\\nFacebook\\n\\n\\nYouTube\\n\\n\\nTwitch\\n\\n\\nInstagram\\n\\n\\n\\n\\n\\n\\n\\n\\n\\n\\n                    ©2024 D&D Beyond | All Rights Reserved\\n                \\n\\n                    Dungeons & Dragons, D&D, their respective logos, and all Wizards titles and characters are property of Wizards of the Coast LLC in the U.S.A. and other countries. ©2024 Wizards.\\n                \\n\\n\\nPrivacy Policy\\nTerms of Service\\nSupport\\n\\n\\n\\n\\nMobile View', metadata={'source': 'https://www.dndbeyond.com/equipment?filter-search=Weapon', 'title': 'Equipment, Gear, and Items for Dungeons & Dragons (D&D) Fifth Edition (5e) - D&D Beyond ', 'description': '', 'language': 'en-us'}),\n",
       "  Document(page_content='Martial Melee Weapon\\n                    \\n\\n\\n\\n\\n\\n\\n\\n                        20 gp\\n                    \\n\\n\\n\\n\\n\\n\\n\\n                        6 lbs\\n                    \\n\\n\\n\\n\\n\\n\\n\\n                        Slashing\\n                    \\n\\n\\n\\n\\n\\n\\n\\n                        Combat, Control, Damage\\n                    \\n\\n\\n\\n\\n\\n\\n\\n\\n\\n\\n\\n\\n\\n\\n\\n\\n\\n\\n\\n\\n\\n\\n                            Hand Mortar (Exandria)\\n                        \\n\\n\\n\\n\\n                        Firearms Ranged Weapon\\n                    \\n\\n\\n\\n\\n\\n\\n\\n                         -- \\n                    \\n\\n\\n\\n\\n\\n\\n\\n                        10 lbs\\n                    \\n\\n\\n\\n\\n\\n\\n\\n                        Fire\\n                    \\n\\n\\n\\n\\n\\n\\n\\n\\n\\n\\n\\n\\n\\n\\n\\n\\n\\n\\n\\n\\n\\n\\n\\n\\n\\n\\n\\n\\n\\n\\n                            Handaxe\\n                        \\n\\n\\n\\n\\n                        Simple Melee Weapon\\n                    \\n\\n\\n\\n\\n\\n\\n\\n                        5 gp\\n                    \\n\\n\\n\\n\\n\\n\\n\\n                        2 lbs\\n                    \\n\\n\\n\\n\\n\\n\\n\\n                        Slashing\\n                    \\n\\n\\n\\n\\n\\n\\n\\n                        Combat, Damage\\n                    \\n\\n\\n\\n\\n\\n\\n\\n\\n\\n\\n\\n\\n\\n\\n\\n\\n\\n\\n\\n\\n\\n\\n                            Hoopak\\n                        \\n\\n\\n\\n\\n                        Martial Melee Weapon\\n                    \\n\\n\\n\\n\\n\\n\\n\\n                        1 gp\\n                    \\n\\n\\n\\n\\n\\n\\n\\n                        2 lbs\\n                    \\n\\n\\n\\n\\n\\n\\n\\n                        Piercing\\n                    \\n\\n\\n\\n\\n\\n\\n\\n\\n\\n\\n\\n\\n\\n\\n\\n\\n\\n\\n\\n\\n\\n\\n\\n\\n\\n\\n\\n\\n\\n\\n                            Hoopak (Ranged)\\n                        \\n\\n\\n\\n\\n                        Martial Ranged Weapon\\n                    \\n\\n\\n\\n\\n\\n\\n\\n                        1 gp\\n                    \\n\\n\\n\\n\\n\\n\\n\\n                        2 lbs\\n                    \\n\\n\\n\\n\\n\\n\\n\\n                        Bludgeoning\\n                    \\n\\n\\n\\n\\n\\n\\n\\n\\n\\n\\n\\n\\n\\n\\n\\n\\n\\n\\n\\n\\n\\n\\n\\n\\n\\n\\n\\n\\n\\n\\n                            Javelin\\n                        \\n\\n\\n\\n\\n                        Simple Melee Weapon\\n                    \\n\\n\\n\\n\\n\\n\\n\\n                        5 sp\\n                    \\n\\n\\n\\n\\n\\n\\n\\n                        2 lbs\\n                    \\n\\n\\n\\n\\n\\n\\n\\n                        Piercing\\n                    \\n\\n\\n\\n\\n\\n\\n\\n                        Combat, Damage\\n                    \\n\\n\\n\\n\\n\\n\\n\\n\\n\\n\\n\\n\\n\\n\\n\\n\\n\\n\\n\\n\\n\\n\\n                            Lance\\n                        \\n\\n\\n\\n\\n                        Martial Melee Weapon\\n                    \\n\\n\\n\\n\\n\\n\\n\\n                        10 gp\\n                    \\n\\n\\n\\n\\n\\n\\n\\n                        6 lbs\\n                    \\n\\n\\n\\n\\n\\n\\n\\n                        Piercing\\n                    \\n\\n\\n\\n\\n\\n\\n\\n                        Combat, Control, Damage\\n                    \\n\\n\\n\\n\\n\\n\\n\\n\\n\\n\\n\\n\\n\\n\\n\\n\\n\\n\\n\\n\\n\\n\\n                            Laser Pistol\\n                        \\n\\n\\n\\n\\n                        Firearms Ranged Weapon\\n                    \\n\\n\\n\\n\\n\\n\\n\\n                         -- \\n                    \\n\\n\\n\\n\\n\\n\\n\\n                        2 lbs\\n                    \\n\\n\\n\\n\\n\\n\\n\\n                        Radiant\\n                    \\n\\n\\n\\n\\n\\n\\n\\n                        Reload (50 shots)\\n                    \\n\\n\\n\\n\\n\\n\\n\\n\\n\\n\\n\\n\\n\\n\\n\\n\\n\\n\\n\\n\\n\\n\\n                            Laser Rifle\\n                        \\n\\n\\n\\n\\n                        Firearms Ranged Weapon\\n                    \\n\\n\\n\\n\\n\\n\\n\\n                         -- \\n                    \\n\\n\\n\\n\\n\\n\\n\\n                        7 lbs\\n                    \\n\\n\\n\\n\\n\\n\\n\\n                        Radiant\\n                    \\n\\n\\n\\n\\n\\n\\n\\n                        Reload (30 shots)\\n                    \\n\\n\\n\\n\\n\\n\\n\\n\\n\\n\\n\\n\\n\\n\\n\\n\\n\\n\\n\\n\\n\\n\\n                            Light Hammer\\n                        \\n\\n\\n\\n\\n                        Simple Melee Weapon\\n                    \\n\\n\\n\\n\\n\\n\\n\\n                        2 gp\\n                    \\n\\n\\n\\n\\n\\n\\n\\n                        2 lbs\\n                    \\n\\n\\n\\n\\n\\n\\n\\n                        Bludgeoning\\n                    \\n\\n\\n\\n\\n\\n\\n\\n                        Combat, Damage\\n                    \\n\\n\\n\\n\\n\\n\\n\\n\\n\\n\\n\\n\\n\\n\\n\\n\\n\\n\\n\\n\\n\\n\\n                            Longbow\\n                        \\n\\n\\n\\n\\n                        Martial Ranged Weapon\\n                    \\n\\n\\n\\n\\n\\n\\n\\n                        50 gp', metadata={'source': 'https://www.dndbeyond.com/equipment?filter-search=Weapon', 'title': 'Equipment, Gear, and Items for Dungeons & Dragons (D&D) Fifth Edition (5e) - D&D Beyond ', 'description': '', 'language': 'en-us'}),\n",
       "  Document(page_content='Combat, Damage\\n                    \\n\\n\\n\\n\\n\\n\\n\\n\\n\\n\\n\\n\\n\\n\\n\\n\\n\\n\\n\\n\\n\\n\\n                            Crossbow, light\\n                        \\n\\n\\n\\n\\n                        Simple Ranged Weapon\\n                    \\n\\n\\n\\n\\n\\n\\n\\n                        25 gp\\n                    \\n\\n\\n\\n\\n\\n\\n\\n                        5 lbs\\n                    \\n\\n\\n\\n\\n\\n\\n\\n                        Piercing\\n                    \\n\\n\\n\\n\\n\\n\\n\\n                        Combat, Damage\\n                    \\n\\n\\n\\n\\n\\n\\n\\n\\n\\n\\n\\n\\n\\n\\n\\n\\n\\n\\n\\n\\n\\n\\n                            Dagger\\n                        \\n\\n\\n\\n\\n                        Simple Melee Weapon\\n                    \\n\\n\\n\\n\\n\\n\\n\\n                        2 gp\\n                    \\n\\n\\n\\n\\n\\n\\n\\n                        1 lb\\n                    \\n\\n\\n\\n\\n\\n\\n\\n                        Piercing\\n                    \\n\\n\\n\\n\\n\\n\\n\\n                        Combat, Damage\\n                    \\n\\n\\n\\n\\n\\n\\n\\n\\n\\n\\n\\n\\n\\n\\n\\n\\n\\n\\n\\n\\n\\n\\n                            Dart\\n                        \\n\\n\\n\\n\\n                        Simple Ranged Weapon\\n                    \\n\\n\\n\\n\\n\\n\\n\\n                        5 cp\\n                    \\n\\n\\n\\n\\n\\n\\n\\n                        1/4 lb\\n                    \\n\\n\\n\\n\\n\\n\\n\\n                        Piercing\\n                    \\n\\n\\n\\n\\n\\n\\n\\n                        Combat, Damage\\n                    \\n\\n\\n\\n\\n\\n\\n\\n\\n\\n\\n\\n\\n\\n\\n\\n\\n\\n\\n\\n\\n\\n\\n                            Double-Bladed Scimitar\\n                        \\n\\n\\n\\n\\n                        Martial Melee Weapon\\n                    \\n\\n\\n\\n\\n\\n\\n\\n                        100 gp\\n                    \\n\\n\\n\\n\\n\\n\\n\\n                        6 lbs\\n                    \\n\\n\\n\\n\\n\\n\\n\\n                        Slashing\\n                    \\n\\n\\n\\n\\n\\n\\n\\n                        Combat, Damage\\n                    \\n\\n\\n\\n\\n\\n\\n\\n\\n\\n\\n\\n\\n\\n\\n\\n\\n\\n\\n\\n\\n\\n\\n                            Flail\\n                        \\n\\n\\n\\n\\n                        Martial Melee Weapon\\n                    \\n\\n\\n\\n\\n\\n\\n\\n                        10 gp\\n                    \\n\\n\\n\\n\\n\\n\\n\\n                        2 lbs\\n                    \\n\\n\\n\\n\\n\\n\\n\\n                        Bludgeoning\\n                    \\n\\n\\n\\n\\n\\n\\n\\n                        Combat, Damage\\n                    \\n\\n\\n\\n\\n\\n\\n\\n\\n\\n\\n\\n\\n\\n\\n\\n\\n\\n\\n\\n\\n\\n\\n                            Glaive\\n                        \\n\\n\\n\\n\\n                        Martial Melee Weapon\\n                    \\n\\n\\n\\n\\n\\n\\n\\n                        20 gp\\n                    \\n\\n\\n\\n\\n\\n\\n\\n                        6 lbs\\n                    \\n\\n\\n\\n\\n\\n\\n\\n                        Slashing\\n                    \\n\\n\\n\\n\\n\\n\\n\\n                        Combat, Control, Damage\\n                    \\n\\n\\n\\n\\n\\n\\n\\n\\n\\n\\n\\n\\n\\n\\n\\n\\n\\n\\n\\n\\n\\n\\n                            Greataxe\\n                        \\n\\n\\n\\n\\n                        Martial Melee Weapon\\n                    \\n\\n\\n\\n\\n\\n\\n\\n                        30 gp\\n                    \\n\\n\\n\\n\\n\\n\\n\\n                        7 lbs\\n                    \\n\\n\\n\\n\\n\\n\\n\\n                        Slashing\\n                    \\n\\n\\n\\n\\n\\n\\n\\n                        Combat, Damage\\n                    \\n\\n\\n\\n\\n\\n\\n\\n\\n\\n\\n\\n\\n\\n\\n\\n\\n\\n\\n\\n\\n\\n\\n                            Greatclub\\n                        \\n\\n\\n\\n\\n                        Simple Melee Weapon\\n                    \\n\\n\\n\\n\\n\\n\\n\\n                        2 sp\\n                    \\n\\n\\n\\n\\n\\n\\n\\n                        10 lbs\\n                    \\n\\n\\n\\n\\n\\n\\n\\n                        Bludgeoning\\n                    \\n\\n\\n\\n\\n\\n\\n\\n                        Combat, Damage\\n                    \\n\\n\\n\\n\\n\\n\\n\\n\\n\\n\\n\\n\\n\\n\\n\\n\\n\\n\\n\\n\\n\\n\\n                            Greatsword\\n                        \\n\\n\\n\\n\\n                        Martial Melee Weapon\\n                    \\n\\n\\n\\n\\n\\n\\n\\n                        50 gp\\n                    \\n\\n\\n\\n\\n\\n\\n\\n                        6 lbs\\n                    \\n\\n\\n\\n\\n\\n\\n\\n                        Slashing\\n                    \\n\\n\\n\\n\\n\\n\\n\\n                        Combat, Damage\\n                    \\n\\n\\n\\n\\n\\n\\n\\n\\n\\n\\n\\n\\n\\n\\n\\n\\n\\n\\n\\n\\n\\n\\n                            Halberd\\n                        \\n\\n\\n\\n\\n                        Martial Melee Weapon\\n                    \\n\\n\\n\\n\\n\\n\\n\\n                        20 gp\\n                    \\n\\n\\n\\n\\n\\n\\n\\n                        6 lbs', metadata={'source': 'https://www.dndbeyond.com/equipment?filter-search=Weapon', 'title': 'Equipment, Gear, and Items for Dungeons & Dragons (D&D) Fifth Edition (5e) - D&D Beyond ', 'description': '', 'language': 'en-us'})],\n",
       " 'answer': 'The names of all the available weapons are:\\n\\n1. Antimatter Rifle\\n2. Bad News (Exandria)\\n3. Battleaxe\\n4. Blowgun\\n5. Blunderbuss (Exandria)\\n6. Boomerang\\n7. Club\\n8. Crossbow, hand\\n9. Crossbow, heavy\\n10. Crossbow, light\\n11. Longbow\\n12. Longsword\\n13. Hand Mortar (Exandria)\\n14. Handaxe\\n15. Hoopak\\n16. Hoopak (Ranged)\\n17. Javelin\\n18. Lance\\n19. Laser Pistol\\n20. Laser Rifle\\n21. Light Hammer\\n22. Crossbow, light (duplicate entry)\\n23. Dagger\\n24. Dart\\n25. Double-Bladed Scimitar\\n26. Flail\\n27. Glaive\\n28. Greataxe\\n29. Greatclub\\n30. Greatsword\\n31. Halberd'}"
      ]
     },
     "execution_count": 50,
     "metadata": {},
     "output_type": "execute_result"
    }
   ],
   "source": [
    "from langchain.chains import create_retrieval_chain\n",
    "\n",
    "retriever = vectorstore.as_retriever()\n",
    "retrieval_chain = create_retrieval_chain(retriever, document_chain)\n",
    "\n",
    "response = retrieval_chain.invoke({\n",
    "    \"input\" : \"List the names of all the available weapons.\"\n",
    "})\n",
    "\n",
    "response"
   ]
  },
  {
   "cell_type": "markdown",
   "metadata": {},
   "source": [
    "### Conversational retrieval chain"
   ]
  },
  {
   "cell_type": "code",
   "execution_count": 88,
   "metadata": {},
   "outputs": [],
   "source": [
    "from langchain.chains import create_history_aware_retriever\n",
    "from langchain_core.prompts import MessagesPlaceholder\n",
    "\n",
    "prompt = ChatPromptTemplate.from_messages([\n",
    "    MessagesPlaceholder(variable_name=\"chat_history\"),\n",
    "    (\"user\", \"{input}\"),\n",
    "    (\"user\", \"Given the above conversation, generate a search query to look up in order to get a list of weapons\")\n",
    "])\n",
    "\n",
    "retriever_chain = create_history_aware_retriever(llm, retriever, prompt)\n",
    "\n",
    "from langchain_core.messages import HumanMessage, AIMessage\n",
    "\n",
    "chat_history = [\n",
    "    HumanMessage(content=\"Can you find different types of weapons\"),\n",
    "    AIMessage(content=\"Yes.\")\n",
    "]\n",
    "\n",
    "prompt = ChatPromptTemplate.from_messages([\n",
    "    (\"system\", \"Answer the users questions based on the below contenxt:\\n\\n{context}\"),\n",
    "    MessagesPlaceholder(variable_name=\"chat_history\"),\n",
    "   (\"user\", \"input\")\n",
    "])\n",
    "\n",
    "document_chain = create_stuff_documents_chain(llm, prompt)\n",
    "\n",
    "conversation_retrieval_chain = create_retrieval_chain(retriever_chain, document_chain)\n",
    "\n",
    "response = conversation_retrieval_chain.invoke({\n",
    "    \"chat_history\": chat_history,\n",
    "    \"input\": \"List just the names of all the weapons you find in following the format: 1. Weapon 1\\n2. Weapon 2\"\n",
    "})\n",
    "\n",
    "response\n"
   ]
  },
  {
   "cell_type": "code",
   "execution_count": 87,
   "metadata": {},
   "outputs": [
    {
     "data": {
      "text/plain": [
       "['1. Hand Mortar (Exandria) - Martial Melee Weapon',\n",
       " '2. Handaxe - Simple Melee Weapon',\n",
       " '3. Hoopak - Martial Melee Weapon',\n",
       " '4. Hoopak (Ranged) - Martial Ranged Weapon',\n",
       " '5. Javelin - Simple Melee Weapon',\n",
       " '6. Lance - Martial Melee Weapon',\n",
       " '7. Laser Pistol - Firearms Ranged Weapon',\n",
       " '8. Laser Rifle - Firearms Ranged Weapon',\n",
       " '9. Light Hammer - Simple Melee Weapon',\n",
       " '10. Longbow - Martial Ranged Weapon',\n",
       " '11. Crossbow, light - Simple Ranged Weapon',\n",
       " '12. Dagger - Simple Melee Weapon',\n",
       " '13. Dart - Simple Ranged Weapon',\n",
       " '14. Double-Bladed Scimitar - Martial Melee Weapon',\n",
       " '15. Flail - Martial Melee Weapon',\n",
       " '16. Glaive - Martial Melee Weapon',\n",
       " '17. Greataxe - Martial Melee Weapon',\n",
       " '18. Greatclub - Simple Melee Weapon',\n",
       " '19. Greatsword - Martial Melee Weapon',\n",
       " '20. Halberd - Martial Melee Weapon',\n",
       " '21. Longsword - Martial Melee Weapon',\n",
       " '22. Battleaxe - Martial Melee Weapon',\n",
       " '23. Blowgun - Martial Ranged Weapon',\n",
       " '24. Club - Simple Melee Weapon',\n",
       " '25. Crossbow, hand - Martial Ranged Weapon',\n",
       " '26. Crossbow, heavy - Martial Ranged Weapon',\n",
       " '27. Crossbow, light - Simple Ranged Weapon']"
      ]
     },
     "execution_count": 87,
     "metadata": {},
     "output_type": "execute_result"
    }
   ],
   "source": [
    "list = response.get('answer').split('\\n')\n",
    "\n",
    "[l for l in list if 'Weapon' in l]"
   ]
  }
 ],
 "metadata": {
  "kernelspec": {
   "display_name": "env",
   "language": "python",
   "name": "python3"
  },
  "language_info": {
   "codemirror_mode": {
    "name": "ipython",
    "version": 3
   },
   "file_extension": ".py",
   "mimetype": "text/x-python",
   "name": "python",
   "nbconvert_exporter": "python",
   "pygments_lexer": "ipython3",
   "version": "3.9.6"
  }
 },
 "nbformat": 4,
 "nbformat_minor": 2
}
