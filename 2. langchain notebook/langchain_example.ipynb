{
 "cells": [
  {
   "cell_type": "markdown",
   "metadata": {},
   "source": [
    "## This sample choose you own adventure (CYOA) application demonstrates using chains to accomplish the following:\n",
    "1) Use the LangChain python library to implement chained queries with OpenAI Chatbot \n",
    "2) Use private context taken from the web - loading inventory from dndbeyond.com \n",
    "3) Implement Retrieval Augmented Generation (RAG) using in-memory vectorstore called FAISS\n",
    "4) Use chains to implement history aware queries"
   ]
  },
  {
   "cell_type": "code",
   "execution_count": 11,
   "metadata": {},
   "outputs": [],
   "source": [
    "from dotenv import load_dotenv\n",
    "from langchain_openai import ChatOpenAI\n",
    "from langchain_core.prompts import ChatPromptTemplate"
   ]
  },
  {
   "cell_type": "code",
   "execution_count": 12,
   "metadata": {},
   "outputs": [],
   "source": [
    "load_dotenv()\n",
    "llm = ChatOpenAI()"
   ]
  },
  {
   "cell_type": "markdown",
   "metadata": {},
   "source": [
    "## Implement the retrieval chain and database\n",
    "1) Scrape inventory from dndbeyond.com using WebBaseLoader and beautifulsoup4\n",
    "2) Load invoentory into faiss vector store database\n",
    "3) Use OpenAI embedding to measure relatedness of strings in vectorstore"
   ]
  },
  {
   "cell_type": "code",
   "execution_count": 47,
   "metadata": {},
   "outputs": [],
   "source": [
    "from langchain_community.document_loaders import WebBaseLoader\n",
    "\n",
    "loader = WebBaseLoader('https://www.dndbeyond.com/equipment?filter-search=Weapon')\n",
    "inventory = loader.load()\n",
    "\n",
    "from langchain_openai import OpenAIEmbeddings\n",
    "\n",
    "embeddings = OpenAIEmbeddings()\n",
    "\n",
    "from langchain_community.vectorstores import FAISS\n",
    "from langchain.text_splitter import RecursiveCharacterTextSplitter\n",
    "\n",
    "text_splitter = RecursiveCharacterTextSplitter()\n",
    "documents = text_splitter.split_documents(inventory)\n",
    "\n",
    "vectorstore = FAISS.from_documents(documents, embeddings)"
   ]
  },
  {
   "cell_type": "markdown",
   "metadata": {},
   "source": [
    "## Load armory into embeddings\n",
    "1) Create chain to pass Document to model"
   ]
  },
  {
   "cell_type": "code",
   "execution_count": 48,
   "metadata": {},
   "outputs": [],
   "source": [
    "from langchain.chains.combine_documents import create_stuff_documents_chain\n",
    "\n",
    "template = \"\"\"Answer the following question based only on the provided context:\n",
    "\n",
    "<context>\n",
    "{context}\n",
    "</context>\n",
    "\n",
    "Question: {input}\n",
    "\"\"\"\n",
    "\n",
    "prompt = ChatPromptTemplate.from_template(template)\n",
    "document_chain = create_stuff_documents_chain(llm, prompt)"
   ]
  },
  {
   "cell_type": "markdown",
   "metadata": {},
   "source": [
    "## Test that the document chain works\n",
    "1) Pass a Document to document_chain\n",
    "2) Model executes prompt using Document as context"
   ]
  },
  {
   "cell_type": "code",
   "execution_count": 49,
   "metadata": {},
   "outputs": [
    {
     "data": {
      "text/plain": [
       "'The names of the first 3 weapons are Axe, Slingshot, and Halberd.'"
      ]
     },
     "execution_count": 49,
     "metadata": {},
     "output_type": "execute_result"
    }
   ],
   "source": [
    "from langchain_core.documents import Document\n",
    "\n",
    "document_chain.invoke({\n",
    "    \"input\":\"List the names of the first 3 weapons\",\n",
    "    \"context\": [Document(page_content=\"List of weapons: 1) Axe 2) Slingshot, 3) Halbred 4) Sword 5) Javelin\")]\n",
    "})"
   ]
  },
  {
   "cell_type": "markdown",
   "metadata": {},
   "source": [
    "## Implement retrieval chain\n",
    "1) Use vectorstore as Document source"
   ]
  },
  {
   "cell_type": "code",
   "execution_count": 50,
   "metadata": {},
   "outputs": [],
   "source": [
    "from langchain.chains import create_retrieval_chain\n",
    "\n",
    "vectorstore_retriever = vectorstore.as_retriever()\n",
    "retrieval_chain = create_retrieval_chain(vectorstore_retriever, document_chain)\n",
    "\n",
    "response = retrieval_chain.invoke({\n",
    "    \"input\" : \"List the names of all the available weapons in the following the format: 1. Weapon 1\\n2. Weapon 2.\"\n",
    "})\n",
    "\n",
    "# We'll use this later\n",
    "ai_message = response.get('answer')"
   ]
  },
  {
   "cell_type": "markdown",
   "metadata": {},
   "source": [
    "## Test retrieval chain works\n",
    "1) Use document store as source for model to execute input query\n",
    "2) 'context' contains relevant Documents from vectorstore\n",
    "3) 'answer' should contain result from llm to input question\n",
    "4) Parse the output"
   ]
  },
  {
   "cell_type": "code",
   "execution_count": 51,
   "metadata": {},
   "outputs": [
    {
     "data": {
      "text/plain": [
       "{'input': 'List the names of all the available weapons in the following the format: 1. Weapon 1\\n2. Weapon 2.',\n",
       " 'context': [Document(page_content='View Magic Items\\n        \\n\\n\\n\\n\\n\\n\\n\\n\\n\\n              Equipment\\n            \\n\\n\\n\\n\\n\\n\\n\\n\\n\\n\\n\\n\\n\\n\\n\\n\\n\\n\\n\\n\\n\\n\\n\\n\\n\\n\\n\\n\\r\\n                Search\\r\\n            \\n\\n\\n\\n\\n\\n\\n\\n\\r\\n                Cost\\r\\n            \\n\\n\\n\\n\\n\\n\\n\\n\\n\\n\\n\\n\\n\\n\\n\\r\\n                Weight\\r\\n            \\n\\n\\n\\n\\n\\n\\n\\n\\n\\n\\n\\n\\n\\nFilter Equipment\\n\\n\\n\\n\\n\\n\\nShow Advanced Filters\\n\\n\\n\\n\\nReset All Filters\\n\\n\\n\\n\\nName\\nCost\\nWeight\\nAttributes\\nNotes\\n\\n\\n\\n\\n\\n12Next\\n\\n\\n\\n\\n\\n\\n\\n\\n\\n\\n\\n\\n\\n\\n\\n\\n\\n\\n                            Antimatter Rifle\\n                        \\n\\n\\n\\n\\n                        Firearms Ranged Weapon\\n                    \\n\\n\\n\\n\\n\\n\\n\\n                         -- \\n                    \\n\\n\\n\\n\\n\\n\\n\\n                        10 lbs\\n                    \\n\\n\\n\\n\\n\\n\\n\\n                        Necrotic\\n                    \\n\\n\\n\\n\\n\\n\\n\\n                        Reload (2 shots)\\n                    \\n\\n\\n\\n\\n\\n\\n\\n\\n\\n\\n\\n\\n\\n\\n\\n\\n\\n\\n\\n\\n\\n\\n                            Bad News (Exandria)\\n                        \\n\\n\\n\\n\\n                        Firearms Ranged Weapon\\n                    \\n\\n\\n\\n\\n\\n\\n\\n                         -- \\n                    \\n\\n\\n\\n\\n\\n\\n\\n                        25 lbs\\n                    \\n\\n\\n\\n\\n\\n\\n\\n                        Piercing\\n                    \\n\\n\\n\\n\\n\\n\\n\\n\\n\\n\\n\\n\\n\\n\\n\\n\\n\\n\\n\\n\\n\\n\\n\\n\\n\\n\\n\\n\\n\\n\\n                            Battleaxe\\n                        \\n\\n\\n\\n\\n                        Martial Melee Weapon\\n                    \\n\\n\\n\\n\\n\\n\\n\\n                        10 gp\\n                    \\n\\n\\n\\n\\n\\n\\n\\n                        4 lbs\\n                    \\n\\n\\n\\n\\n\\n\\n\\n                        Slashing\\n                    \\n\\n\\n\\n\\n\\n\\n\\n                        Combat, Damage\\n                    \\n\\n\\n\\n\\n\\n\\n\\n\\n\\n\\n\\n\\n\\n\\n\\n\\n\\n\\n\\n\\n\\n\\n                            Blowgun\\n                        \\n\\n\\n\\n\\n                        Martial Ranged Weapon\\n                    \\n\\n\\n\\n\\n\\n\\n\\n                        10 gp\\n                    \\n\\n\\n\\n\\n\\n\\n\\n                        1 lb\\n                    \\n\\n\\n\\n\\n\\n\\n\\n                        Piercing\\n                    \\n\\n\\n\\n\\n\\n\\n\\n                        Combat, Damage\\n                    \\n\\n\\n\\n\\n\\n\\n\\n\\n\\n\\n\\n\\n\\n\\n\\n\\n\\n\\n\\n\\n\\n\\n                            Blunderbuss (Exandria)\\n                        \\n\\n\\n\\n\\n                        Firearms Ranged Weapon\\n                    \\n\\n\\n\\n\\n\\n\\n\\n                        300 gp\\n                    \\n\\n\\n\\n\\n\\n\\n\\n                        10 lbs\\n                    \\n\\n\\n\\n\\n\\n\\n\\n                        Piercing\\n                    \\n\\n\\n\\n\\n\\n\\n\\n\\n\\n\\n\\n\\n\\n\\n\\n\\n\\n\\n\\n\\n\\n\\n\\n\\n\\n\\n\\n\\n\\n\\n                            Boomerang\\n                        \\n\\n\\n\\n\\n                        Simple Ranged Weapon\\n                    \\n\\n\\n\\n\\n\\n\\n\\n                         -- \\n                    \\n\\n\\n\\n\\n\\n\\n\\n                         -- \\n                    \\n\\n\\n\\n\\n\\n\\n\\n                        Bludgeoning\\n                    \\n\\n\\n\\n\\n\\n\\n\\n                        Combat, Damage\\n                    \\n\\n\\n\\n\\n\\n\\n\\n\\n\\n\\n\\n\\n\\n\\n\\n\\n\\n\\n\\n\\n\\n\\n                            Club\\n                        \\n\\n\\n\\n\\n                        Simple Melee Weapon\\n                    \\n\\n\\n\\n\\n\\n\\n\\n                        1 sp\\n                    \\n\\n\\n\\n\\n\\n\\n\\n                        2 lbs\\n                    \\n\\n\\n\\n\\n\\n\\n\\n                        Bludgeoning\\n                    \\n\\n\\n\\n\\n\\n\\n\\n                        Combat, Damage\\n                    \\n\\n\\n\\n\\n\\n\\n\\n\\n\\n\\n\\n\\n\\n\\n\\n\\n\\n\\n\\n\\n\\n\\n                            Crossbow, hand\\n                        \\n\\n\\n\\n\\n                        Martial Ranged Weapon\\n                    \\n\\n\\n\\n\\n\\n\\n\\n                        75 gp\\n                    \\n\\n\\n\\n\\n\\n\\n\\n                        3 lbs\\n                    \\n\\n\\n\\n\\n\\n\\n\\n                        Piercing\\n                    \\n\\n\\n\\n\\n\\n\\n\\n                        Combat, Damage\\n                    \\n\\n\\n\\n\\n\\n\\n\\n\\n\\n\\n\\n\\n\\n\\n\\n\\n\\n\\n\\n\\n\\n\\n                            Crossbow, heavy\\n                        \\n\\n\\n\\n\\n                        Martial Ranged Weapon\\n                    \\n\\n\\n\\n\\n\\n\\n\\n                        50 gp\\n                    \\n\\n\\n\\n\\n\\n\\n\\n                        18 lbs\\n                    \\n\\n\\n\\n\\n\\n\\n\\n                        Piercing\\n                    \\n\\n\\n\\n\\n\\n\\n\\n                        Combat, Damage\\n                    \\n\\n\\n\\n\\n\\n\\n\\n\\n\\n\\n\\n\\n\\n\\n\\n\\n\\n\\n\\n\\n\\n\\n                            Crossbow, light', metadata={'source': 'https://www.dndbeyond.com/equipment?filter-search=Weapon', 'title': 'Equipment, Gear, and Items for Dungeons & Dragons (D&D) Fifth Edition (5e) - D&D Beyond ', 'description': '', 'language': 'en-us'}),\n",
       "  Document(page_content='Martial Melee Weapon\\n                    \\n\\n\\n\\n\\n\\n\\n\\n                        20 gp\\n                    \\n\\n\\n\\n\\n\\n\\n\\n                        6 lbs\\n                    \\n\\n\\n\\n\\n\\n\\n\\n                        Slashing\\n                    \\n\\n\\n\\n\\n\\n\\n\\n                        Combat, Control, Damage\\n                    \\n\\n\\n\\n\\n\\n\\n\\n\\n\\n\\n\\n\\n\\n\\n\\n\\n\\n\\n\\n\\n\\n\\n                            Hand Mortar (Exandria)\\n                        \\n\\n\\n\\n\\n                        Firearms Ranged Weapon\\n                    \\n\\n\\n\\n\\n\\n\\n\\n                         -- \\n                    \\n\\n\\n\\n\\n\\n\\n\\n                        10 lbs\\n                    \\n\\n\\n\\n\\n\\n\\n\\n                        Fire\\n                    \\n\\n\\n\\n\\n\\n\\n\\n\\n\\n\\n\\n\\n\\n\\n\\n\\n\\n\\n\\n\\n\\n\\n\\n\\n\\n\\n\\n\\n\\n\\n                            Handaxe\\n                        \\n\\n\\n\\n\\n                        Simple Melee Weapon\\n                    \\n\\n\\n\\n\\n\\n\\n\\n                        5 gp\\n                    \\n\\n\\n\\n\\n\\n\\n\\n                        2 lbs\\n                    \\n\\n\\n\\n\\n\\n\\n\\n                        Slashing\\n                    \\n\\n\\n\\n\\n\\n\\n\\n                        Combat, Damage\\n                    \\n\\n\\n\\n\\n\\n\\n\\n\\n\\n\\n\\n\\n\\n\\n\\n\\n\\n\\n\\n\\n\\n\\n                            Hoopak\\n                        \\n\\n\\n\\n\\n                        Martial Melee Weapon\\n                    \\n\\n\\n\\n\\n\\n\\n\\n                        1 gp\\n                    \\n\\n\\n\\n\\n\\n\\n\\n                        2 lbs\\n                    \\n\\n\\n\\n\\n\\n\\n\\n                        Piercing\\n                    \\n\\n\\n\\n\\n\\n\\n\\n\\n\\n\\n\\n\\n\\n\\n\\n\\n\\n\\n\\n\\n\\n\\n\\n\\n\\n\\n\\n\\n\\n\\n                            Hoopak (Ranged)\\n                        \\n\\n\\n\\n\\n                        Martial Ranged Weapon\\n                    \\n\\n\\n\\n\\n\\n\\n\\n                        1 gp\\n                    \\n\\n\\n\\n\\n\\n\\n\\n                        2 lbs\\n                    \\n\\n\\n\\n\\n\\n\\n\\n                        Bludgeoning\\n                    \\n\\n\\n\\n\\n\\n\\n\\n\\n\\n\\n\\n\\n\\n\\n\\n\\n\\n\\n\\n\\n\\n\\n\\n\\n\\n\\n\\n\\n\\n\\n                            Javelin\\n                        \\n\\n\\n\\n\\n                        Simple Melee Weapon\\n                    \\n\\n\\n\\n\\n\\n\\n\\n                        5 sp\\n                    \\n\\n\\n\\n\\n\\n\\n\\n                        2 lbs\\n                    \\n\\n\\n\\n\\n\\n\\n\\n                        Piercing\\n                    \\n\\n\\n\\n\\n\\n\\n\\n                        Combat, Damage\\n                    \\n\\n\\n\\n\\n\\n\\n\\n\\n\\n\\n\\n\\n\\n\\n\\n\\n\\n\\n\\n\\n\\n\\n                            Lance\\n                        \\n\\n\\n\\n\\n                        Martial Melee Weapon\\n                    \\n\\n\\n\\n\\n\\n\\n\\n                        10 gp\\n                    \\n\\n\\n\\n\\n\\n\\n\\n                        6 lbs\\n                    \\n\\n\\n\\n\\n\\n\\n\\n                        Piercing\\n                    \\n\\n\\n\\n\\n\\n\\n\\n                        Combat, Control, Damage\\n                    \\n\\n\\n\\n\\n\\n\\n\\n\\n\\n\\n\\n\\n\\n\\n\\n\\n\\n\\n\\n\\n\\n\\n                            Laser Pistol\\n                        \\n\\n\\n\\n\\n                        Firearms Ranged Weapon\\n                    \\n\\n\\n\\n\\n\\n\\n\\n                         -- \\n                    \\n\\n\\n\\n\\n\\n\\n\\n                        2 lbs\\n                    \\n\\n\\n\\n\\n\\n\\n\\n                        Radiant\\n                    \\n\\n\\n\\n\\n\\n\\n\\n                        Reload (50 shots)\\n                    \\n\\n\\n\\n\\n\\n\\n\\n\\n\\n\\n\\n\\n\\n\\n\\n\\n\\n\\n\\n\\n\\n\\n                            Laser Rifle\\n                        \\n\\n\\n\\n\\n                        Firearms Ranged Weapon\\n                    \\n\\n\\n\\n\\n\\n\\n\\n                         -- \\n                    \\n\\n\\n\\n\\n\\n\\n\\n                        7 lbs\\n                    \\n\\n\\n\\n\\n\\n\\n\\n                        Radiant\\n                    \\n\\n\\n\\n\\n\\n\\n\\n                        Reload (30 shots)\\n                    \\n\\n\\n\\n\\n\\n\\n\\n\\n\\n\\n\\n\\n\\n\\n\\n\\n\\n\\n\\n\\n\\n\\n                            Light Hammer\\n                        \\n\\n\\n\\n\\n                        Simple Melee Weapon\\n                    \\n\\n\\n\\n\\n\\n\\n\\n                        2 gp\\n                    \\n\\n\\n\\n\\n\\n\\n\\n                        2 lbs\\n                    \\n\\n\\n\\n\\n\\n\\n\\n                        Bludgeoning\\n                    \\n\\n\\n\\n\\n\\n\\n\\n                        Combat, Damage\\n                    \\n\\n\\n\\n\\n\\n\\n\\n\\n\\n\\n\\n\\n\\n\\n\\n\\n\\n\\n\\n\\n\\n\\n                            Longbow\\n                        \\n\\n\\n\\n\\n                        Martial Ranged Weapon\\n                    \\n\\n\\n\\n\\n\\n\\n\\n                        50 gp', metadata={'source': 'https://www.dndbeyond.com/equipment?filter-search=Weapon', 'title': 'Equipment, Gear, and Items for Dungeons & Dragons (D&D) Fifth Edition (5e) - D&D Beyond ', 'description': '', 'language': 'en-us'}),\n",
       "  Document(page_content='Longbow\\n                        \\n\\n\\n\\n\\n                        Martial Ranged Weapon\\n                    \\n\\n\\n\\n\\n\\n\\n\\n                        50 gp\\n                    \\n\\n\\n\\n\\n\\n\\n\\n                        2 lbs\\n                    \\n\\n\\n\\n\\n\\n\\n\\n                        Piercing\\n                    \\n\\n\\n\\n\\n\\n\\n\\n                        Combat, Damage\\n                    \\n\\n\\n\\n\\n\\n\\n\\n\\n\\n\\n\\n\\n\\n\\n\\n\\n\\n\\n\\n\\n\\n\\n                            Longsword\\n                        \\n\\n\\n\\n\\n                        Martial Melee Weapon\\n                    \\n\\n\\n\\n\\n\\n\\n\\n                        15 gp\\n                    \\n\\n\\n\\n\\n\\n\\n\\n                        3 lbs\\n                    \\n\\n\\n\\n\\n\\n\\n\\n                        Slashing\\n                    \\n\\n\\n\\n\\n\\n\\n\\n                        Combat, Damage\\n                    \\n\\n\\n\\n\\n\\n\\n\\n\\n\\n\\n\\n\\n\\n12Next\\n\\n\\n\\n\\n\\n\\n\\n\\n\\n\\n\\n\\n\\n\\n\\n\\n\\n\\n\\n\\n\\nWe have updated our privacy policy. Click the link to learn more.\\n\\n\\n\\n\\n\\n\\nPlay With Advantage\\n\\n\\n\\n\\nQuick Links\\n\\nCompendium\\n\\n\\nBuilder\\n\\n\\nCharacters\\n\\n\\nChangelog\\n\\n\\nCareers\\n\\n\\n\\nSupport\\n\\nHelp Portal\\n\\n\\nSupport Forum\\n\\n\\nContact Us\\n\\n\\nDo Not Sell My Info\\n\\n\\nCookies\\n\\n\\n\\nFollow Us\\n\\nTwitter\\n\\n\\nFacebook\\n\\n\\nYouTube\\n\\n\\nTwitch\\n\\n\\nInstagram\\n\\n\\n\\n\\n\\n\\n\\n\\n\\n\\n                    ©2024 D&D Beyond | All Rights Reserved\\n                \\n\\n                    Dungeons & Dragons, D&D, their respective logos, and all Wizards titles and characters are property of Wizards of the Coast LLC in the U.S.A. and other countries. ©2024 Wizards.\\n                \\n\\n\\nPrivacy Policy\\nTerms of Service\\nSupport\\n\\n\\n\\n\\nMobile View', metadata={'source': 'https://www.dndbeyond.com/equipment?filter-search=Weapon', 'title': 'Equipment, Gear, and Items for Dungeons & Dragons (D&D) Fifth Edition (5e) - D&D Beyond ', 'description': '', 'language': 'en-us'}),\n",
       "  Document(page_content='Combat, Damage\\n                    \\n\\n\\n\\n\\n\\n\\n\\n\\n\\n\\n\\n\\n\\n\\n\\n\\n\\n\\n\\n\\n\\n\\n                            Crossbow, light\\n                        \\n\\n\\n\\n\\n                        Simple Ranged Weapon\\n                    \\n\\n\\n\\n\\n\\n\\n\\n                        25 gp\\n                    \\n\\n\\n\\n\\n\\n\\n\\n                        5 lbs\\n                    \\n\\n\\n\\n\\n\\n\\n\\n                        Piercing\\n                    \\n\\n\\n\\n\\n\\n\\n\\n                        Combat, Damage\\n                    \\n\\n\\n\\n\\n\\n\\n\\n\\n\\n\\n\\n\\n\\n\\n\\n\\n\\n\\n\\n\\n\\n\\n                            Dagger\\n                        \\n\\n\\n\\n\\n                        Simple Melee Weapon\\n                    \\n\\n\\n\\n\\n\\n\\n\\n                        2 gp\\n                    \\n\\n\\n\\n\\n\\n\\n\\n                        1 lb\\n                    \\n\\n\\n\\n\\n\\n\\n\\n                        Piercing\\n                    \\n\\n\\n\\n\\n\\n\\n\\n                        Combat, Damage\\n                    \\n\\n\\n\\n\\n\\n\\n\\n\\n\\n\\n\\n\\n\\n\\n\\n\\n\\n\\n\\n\\n\\n\\n                            Dart\\n                        \\n\\n\\n\\n\\n                        Simple Ranged Weapon\\n                    \\n\\n\\n\\n\\n\\n\\n\\n                        5 cp\\n                    \\n\\n\\n\\n\\n\\n\\n\\n                        1/4 lb\\n                    \\n\\n\\n\\n\\n\\n\\n\\n                        Piercing\\n                    \\n\\n\\n\\n\\n\\n\\n\\n                        Combat, Damage\\n                    \\n\\n\\n\\n\\n\\n\\n\\n\\n\\n\\n\\n\\n\\n\\n\\n\\n\\n\\n\\n\\n\\n\\n                            Double-Bladed Scimitar\\n                        \\n\\n\\n\\n\\n                        Martial Melee Weapon\\n                    \\n\\n\\n\\n\\n\\n\\n\\n                        100 gp\\n                    \\n\\n\\n\\n\\n\\n\\n\\n                        6 lbs\\n                    \\n\\n\\n\\n\\n\\n\\n\\n                        Slashing\\n                    \\n\\n\\n\\n\\n\\n\\n\\n                        Combat, Damage\\n                    \\n\\n\\n\\n\\n\\n\\n\\n\\n\\n\\n\\n\\n\\n\\n\\n\\n\\n\\n\\n\\n\\n\\n                            Flail\\n                        \\n\\n\\n\\n\\n                        Martial Melee Weapon\\n                    \\n\\n\\n\\n\\n\\n\\n\\n                        10 gp\\n                    \\n\\n\\n\\n\\n\\n\\n\\n                        2 lbs\\n                    \\n\\n\\n\\n\\n\\n\\n\\n                        Bludgeoning\\n                    \\n\\n\\n\\n\\n\\n\\n\\n                        Combat, Damage\\n                    \\n\\n\\n\\n\\n\\n\\n\\n\\n\\n\\n\\n\\n\\n\\n\\n\\n\\n\\n\\n\\n\\n\\n                            Glaive\\n                        \\n\\n\\n\\n\\n                        Martial Melee Weapon\\n                    \\n\\n\\n\\n\\n\\n\\n\\n                        20 gp\\n                    \\n\\n\\n\\n\\n\\n\\n\\n                        6 lbs\\n                    \\n\\n\\n\\n\\n\\n\\n\\n                        Slashing\\n                    \\n\\n\\n\\n\\n\\n\\n\\n                        Combat, Control, Damage\\n                    \\n\\n\\n\\n\\n\\n\\n\\n\\n\\n\\n\\n\\n\\n\\n\\n\\n\\n\\n\\n\\n\\n\\n                            Greataxe\\n                        \\n\\n\\n\\n\\n                        Martial Melee Weapon\\n                    \\n\\n\\n\\n\\n\\n\\n\\n                        30 gp\\n                    \\n\\n\\n\\n\\n\\n\\n\\n                        7 lbs\\n                    \\n\\n\\n\\n\\n\\n\\n\\n                        Slashing\\n                    \\n\\n\\n\\n\\n\\n\\n\\n                        Combat, Damage\\n                    \\n\\n\\n\\n\\n\\n\\n\\n\\n\\n\\n\\n\\n\\n\\n\\n\\n\\n\\n\\n\\n\\n\\n                            Greatclub\\n                        \\n\\n\\n\\n\\n                        Simple Melee Weapon\\n                    \\n\\n\\n\\n\\n\\n\\n\\n                        2 sp\\n                    \\n\\n\\n\\n\\n\\n\\n\\n                        10 lbs\\n                    \\n\\n\\n\\n\\n\\n\\n\\n                        Bludgeoning\\n                    \\n\\n\\n\\n\\n\\n\\n\\n                        Combat, Damage\\n                    \\n\\n\\n\\n\\n\\n\\n\\n\\n\\n\\n\\n\\n\\n\\n\\n\\n\\n\\n\\n\\n\\n\\n                            Greatsword\\n                        \\n\\n\\n\\n\\n                        Martial Melee Weapon\\n                    \\n\\n\\n\\n\\n\\n\\n\\n                        50 gp\\n                    \\n\\n\\n\\n\\n\\n\\n\\n                        6 lbs\\n                    \\n\\n\\n\\n\\n\\n\\n\\n                        Slashing\\n                    \\n\\n\\n\\n\\n\\n\\n\\n                        Combat, Damage\\n                    \\n\\n\\n\\n\\n\\n\\n\\n\\n\\n\\n\\n\\n\\n\\n\\n\\n\\n\\n\\n\\n\\n\\n                            Halberd\\n                        \\n\\n\\n\\n\\n                        Martial Melee Weapon\\n                    \\n\\n\\n\\n\\n\\n\\n\\n                        20 gp\\n                    \\n\\n\\n\\n\\n\\n\\n\\n                        6 lbs', metadata={'source': 'https://www.dndbeyond.com/equipment?filter-search=Weapon', 'title': 'Equipment, Gear, and Items for Dungeons & Dragons (D&D) Fifth Edition (5e) - D&D Beyond ', 'description': '', 'language': 'en-us'})],\n",
       " 'answer': '1. Antimatter Rifle\\n2. Bad News (Exandria)\\n3. Battleaxe\\n4. Blowgun\\n5. Blunderbuss (Exandria)\\n6. Boomerang\\n7. Club\\n8. Crossbow, hand\\n9. Crossbow, heavy\\n10. Crossbow, light\\n11. Hand Mortar (Exandria)\\n12. Handaxe\\n13. Hoopak\\n14. Hoopak (Ranged)\\n15. Javelin\\n16. Lance\\n17. Laser Pistol\\n18. Laser Rifle\\n19. Light Hammer\\n20. Longbow\\n21. Longsword\\n22. Crossbow, light\\n23. Dagger\\n24. Dart\\n25. Double-Bladed Scimitar\\n26. Flail\\n27. Glaive\\n28. Greataxe\\n29. Greatclub\\n30. Greatsword\\n31. Halberd'}"
      ]
     },
     "execution_count": 51,
     "metadata": {},
     "output_type": "execute_result"
    }
   ],
   "source": [
    "response\n",
    "\n",
    "# Uncomment to see parsed inventory\n",
    "# response.get('answer').split('\\n')"
   ]
  },
  {
   "cell_type": "markdown",
   "metadata": {},
   "source": [
    "## Conversation aware vectorstore retriever chain \n",
    "1) Maintain context for searching relevant embedding in vectorstore"
   ]
  },
  {
   "cell_type": "code",
   "execution_count": 52,
   "metadata": {},
   "outputs": [],
   "source": [
    "from langchain.chains import create_history_aware_retriever\n",
    "from langchain_core.prompts import MessagesPlaceholder\n",
    "\n",
    "prompt = ChatPromptTemplate.from_messages([\n",
    "    MessagesPlaceholder(variable_name=\"chat_history\"),\n",
    "    (\"user\", \"{input}\"),\n",
    "])\n",
    "\n",
    "retriever_chain = create_history_aware_retriever(llm, vectorstore_retriever, prompt)\n"
   ]
  },
  {
   "cell_type": "markdown",
   "metadata": {},
   "source": [
    "# Conversation aware document retriever chain\n",
    "1) Maintain for document retriever query"
   ]
  },
  {
   "cell_type": "code",
   "execution_count": 61,
   "metadata": {},
   "outputs": [],
   "source": [
    "prompt = ChatPromptTemplate.from_messages([\n",
    "    (\"system\", \"Answer the users questions based on the below contenxt:\\n\\n{context}\"),\n",
    "    MessagesPlaceholder(variable_name=\"chat_history\"),\n",
    "    (\"user\", \"{input}\")\n",
    "])\n",
    "\n",
    "document_chain = create_stuff_documents_chain(llm, prompt)"
   ]
  },
  {
   "cell_type": "markdown",
   "metadata": {},
   "source": [
    "## Final product - here's the beautiful part\n",
    "1) Create our final conversation aware vectorstore retriever chain\n",
    "2) Chat history will be used in queries for both embedding AND the returned documents"
   ]
  },
  {
   "cell_type": "code",
   "execution_count": 65,
   "metadata": {},
   "outputs": [],
   "source": [
    "conversation_retrieval_chain = create_retrieval_chain(retriever_chain, document_chain)\n",
    "\n",
    "from langchain_core.messages import HumanMessage, AIMessage\n",
    "\n",
    "chat_history = [\n",
    "    HumanMessage(content=\"List the names of all the available weapons in the following the format: 1. Weapon 1\\n2. Weapon 2.\"),\n",
    "    AIMessage(content=ai_message)\n",
    "]\n",
    "response = conversation_retrieval_chain.invoke({\n",
    "    \"chat_history\": chat_history,\n",
    "    \"input\": \"List the names of all the ranged weapons, and their weights, in following the format: 1. Weapon 1, (WEIGHT)\\n2. Weapon 2 (WEIGHT)\"\n",
    "})"
   ]
  },
  {
   "cell_type": "code",
   "execution_count": 66,
   "metadata": {},
   "outputs": [
    {
     "name": "stdout",
     "output_type": "stream",
     "text": [
      "1. Antimatter Rifle (10 lbs)\n",
      "2. Bad News (Exandria) (25 lbs)\n",
      "3. Blowgun (1 lb)\n",
      "4. Blunderbuss (Exandria) (10 lbs)\n",
      "5. Boomerang (--)\n",
      "6. Crossbow, hand (3 lbs)\n",
      "7. Crossbow, heavy (18 lbs)\n",
      "8. Crossbow, light (5 lbs)\n",
      "9. Hand Mortar (Exandria) (--)\n",
      "10. Hoopak (Ranged) (2 lbs)\n",
      "11. Laser Pistol (2 lbs)\n",
      "12. Laser Rifle (7 lbs)\n",
      "13. Longbow (2 lbs)\n",
      "14. Crossbow, light (--)\n",
      "15. Dart (1/4 lb)\n"
     ]
    }
   ],
   "source": [
    "print(response.get('answer'))\n",
    "\n",
    "inventory_raw = response.get('answer').split('\\n')\n",
    "\n",
    "# [item for item in inventory_raw if any (w in item for w in ['Melee Weapon', 'Ranged Weapon'])]"
   ]
  }
 ],
 "metadata": {
  "kernelspec": {
   "display_name": "env",
   "language": "python",
   "name": "python3"
  },
  "language_info": {
   "codemirror_mode": {
    "name": "ipython",
    "version": 3
   },
   "file_extension": ".py",
   "mimetype": "text/x-python",
   "name": "python",
   "nbconvert_exporter": "python",
   "pygments_lexer": "ipython3",
   "version": "3.9.6"
  }
 },
 "nbformat": 4,
 "nbformat_minor": 2
}
